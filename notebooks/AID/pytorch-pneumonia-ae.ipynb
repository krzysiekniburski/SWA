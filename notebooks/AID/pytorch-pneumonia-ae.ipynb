{
 "cells": [
  {
   "cell_type": "markdown",
   "id": "5e2826b7",
   "metadata": {
    "papermill": {
     "duration": 0.053125,
     "end_time": "2022-05-07T14:56:56.944702",
     "exception": false,
     "start_time": "2022-05-07T14:56:56.891577",
     "status": "completed"
    },
    "tags": []
   },
   "source": [
    "## Pneumonia classification with CNN on X-Ray images using PyTorch"
   ]
  },
  {
   "cell_type": "markdown",
   "id": "25af8d37",
   "metadata": {
    "papermill": {
     "duration": 0.046561,
     "end_time": "2022-05-07T14:56:57.038845",
     "exception": false,
     "start_time": "2022-05-07T14:56:56.992284",
     "status": "completed"
    },
    "tags": []
   },
   "source": [
    "# 1. Introduction and setups\n",
    "Hello everyone! In this notebook, I'm gonna use convolutional neural network models to predict pneumonia on x-ray images using PyTorch. Let's start!"
   ]
  },
  {
   "cell_type": "markdown",
   "id": "b756a741",
   "metadata": {
    "papermill": {
     "duration": 0.0458,
     "end_time": "2022-05-07T14:56:57.131619",
     "exception": false,
     "start_time": "2022-05-07T14:56:57.085819",
     "status": "completed"
    },
    "tags": []
   },
   "source": [
    "# 1.1 What is pneumonia\n",
    "**Pneumonia** is an infection in one or both lungs caused by bacteria, viruses, or fungi. The infection leads to inflammation in the air sacs of the lungs, which are called alveoli. The alveoli fill with fluid or pus, making it difficult to breathe. Symptoms can range from mild to serious and may include a cough with or without mucus (a slimy substance), fever, chills, and trouble breathing. How serious your pneumonia is depends on your age, your overall health, and what caused your infection. Both viral and bacterial pneumonia are contagious. \n",
    "\n",
    "To diagnose pneumonia, your healthcare provider will review your medical history, perform a physical exam, and order diagnostic tests such as a chest X-ray. \n",
    "\n",
    "![Pneumonia illustration](https://img.freepik.com/vector-gratis/saluda-e-insalubre-pulmones-humanos_1308-29197.jpg?t=st=1651922559~exp=1651923159~hmac=cc743ddf052394279d4437886c5661103454ddeca79a28b5261b3f1fe7c17603&w=996)"
   ]
  },
  {
   "cell_type": "markdown",
   "id": "c0eb68a8",
   "metadata": {
    "papermill": {
     "duration": 0.046005,
     "end_time": "2022-05-07T14:56:57.223748",
     "exception": false,
     "start_time": "2022-05-07T14:56:57.177743",
     "status": "completed"
    },
    "tags": []
   },
   "source": [
    "# 1.2 Import libraries"
   ]
  },
  {
   "cell_type": "code",
   "execution_count": 1,
   "id": "6832d2cc",
   "metadata": {
    "execution": {
     "iopub.execute_input": "2022-05-07T14:56:57.316863Z",
     "iopub.status.busy": "2022-05-07T14:56:57.316501Z",
     "iopub.status.idle": "2022-05-07T14:56:59.866630Z",
     "shell.execute_reply": "2022-05-07T14:56:59.865863Z"
    },
    "papermill": {
     "duration": 2.599698,
     "end_time": "2022-05-07T14:56:59.869041",
     "exception": false,
     "start_time": "2022-05-07T14:56:57.269343",
     "status": "completed"
    },
    "tags": []
   },
   "outputs": [],
   "source": [
    "import pandas as pd\n",
    "import numpy as np\n",
    "import os, random, itertools\n",
    "\n",
    "from PIL import Image\n",
    "from sklearn.utils.class_weight import compute_class_weight\n",
    "from sklearn.model_selection import train_test_split\n",
    "from sklearn import metrics\n",
    "import seaborn as sns\n",
    "import matplotlib.pyplot as plt\n",
    "from mlxtend.plotting import plot_confusion_matrix\n",
    "\n",
    "import torch\n",
    "from torch import nn\n",
    "from torch import optim\n",
    "from torch.utils.data import DataLoader, Dataset, WeightedRandomSampler\n",
    "import torchvision.transforms as T\n",
    "import torchvision"
   ]
  },
  {
   "cell_type": "markdown",
   "id": "dc134800",
   "metadata": {
    "papermill": {
     "duration": 0.047548,
     "end_time": "2022-05-07T14:56:59.965841",
     "exception": false,
     "start_time": "2022-05-07T14:56:59.918293",
     "status": "completed"
    },
    "tags": []
   },
   "source": [
    "# 1.3 Reproducibility\n",
    "**Reproducibility** in machine learning means that you can repeatedly run your algorithm on certain datasets and obtain the same (or similar) results on a particular project. It's important to have reproducibility when you testing different models and hyperparameters or taking part in Kaggle competitions.\n",
    "\n",
    "To obtain reproducibility, I used the next function (which was taken from [this repository](https://gist.github.com/ihoromi4/b681a9088f348942b01711f251e5f964) with some changes)."
   ]
  },
  {
   "cell_type": "code",
   "execution_count": 2,
   "id": "76f728b7",
   "metadata": {
    "execution": {
     "iopub.execute_input": "2022-05-07T14:57:00.103270Z",
     "iopub.status.busy": "2022-05-07T14:57:00.103007Z",
     "iopub.status.idle": "2022-05-07T14:57:00.107903Z",
     "shell.execute_reply": "2022-05-07T14:57:00.107173Z"
    },
    "papermill": {
     "duration": 0.073834,
     "end_time": "2022-05-07T14:57:00.109823",
     "exception": false,
     "start_time": "2022-05-07T14:57:00.035989",
     "status": "completed"
    },
    "tags": []
   },
   "outputs": [],
   "source": [
    "def seed_everything(seed):\n",
    "    random.seed(seed)\n",
    "    os.environ['PYTHONHASHSEED'] = str(seed)\n",
    "    np.random.seed(seed)\n",
    "    torch.manual_seed(seed)\n",
    "    torch.cuda.manual_seed_all(seed)\n",
    "    torch.backends.cudnn.deterministic = True\n",
    "    torch.backends.cudnn.benchmark = False"
   ]
  },
  {
   "cell_type": "code",
   "execution_count": 3,
   "id": "64848bc0",
   "metadata": {
    "execution": {
     "iopub.execute_input": "2022-05-07T14:57:00.202359Z",
     "iopub.status.busy": "2022-05-07T14:57:00.201809Z",
     "iopub.status.idle": "2022-05-07T14:57:00.208266Z",
     "shell.execute_reply": "2022-05-07T14:57:00.207592Z"
    },
    "papermill": {
     "duration": 0.054268,
     "end_time": "2022-05-07T14:57:00.209968",
     "exception": false,
     "start_time": "2022-05-07T14:57:00.155700",
     "status": "completed"
    },
    "tags": []
   },
   "outputs": [],
   "source": [
    "seed_everything(42)"
   ]
  },
  {
   "cell_type": "markdown",
   "id": "3220d8a9",
   "metadata": {
    "papermill": {
     "duration": 0.046652,
     "end_time": "2022-05-07T14:57:00.302546",
     "exception": false,
     "start_time": "2022-05-07T14:57:00.255894",
     "status": "completed"
    },
    "tags": []
   },
   "source": [
    "# 1.4 Choosing device\n",
    "The next line enables us to automatically choose GPU as accelerator if it is able. Otherwise, it will choose CPU."
   ]
  },
  {
   "cell_type": "code",
   "execution_count": 4,
   "id": "0a250189",
   "metadata": {
    "execution": {
     "iopub.execute_input": "2022-05-07T14:57:00.399672Z",
     "iopub.status.busy": "2022-05-07T14:57:00.399252Z",
     "iopub.status.idle": "2022-05-07T14:57:00.449181Z",
     "shell.execute_reply": "2022-05-07T14:57:00.448447Z"
    },
    "papermill": {
     "duration": 0.100105,
     "end_time": "2022-05-07T14:57:00.450890",
     "exception": false,
     "start_time": "2022-05-07T14:57:00.350785",
     "status": "completed"
    },
    "tags": []
   },
   "outputs": [],
   "source": [
    "device = torch.device(\"cuda\") if torch.cuda.is_available() else torch.device(\"cpu\")"
   ]
  },
  {
   "cell_type": "code",
   "execution_count": 5,
   "id": "6af1bac1",
   "metadata": {},
   "outputs": [
    {
     "data": {
      "text/plain": [
       "device(type='cpu')"
      ]
     },
     "execution_count": 5,
     "metadata": {},
     "output_type": "execute_result"
    }
   ],
   "source": [
    "device"
   ]
  },
  {
   "cell_type": "markdown",
   "id": "f1277352",
   "metadata": {
    "papermill": {
     "duration": 0.047327,
     "end_time": "2022-05-07T14:57:00.545518",
     "exception": false,
     "start_time": "2022-05-07T14:57:00.498191",
     "status": "completed"
    },
    "tags": []
   },
   "source": [
    "# 2. Loading data\n",
    "**From the considered dataset description:**\n",
    "\n",
    "The dataset is organized into 3 folders (train, test, val) and contains subfolders for each image category (Pneumonia/Normal). There are 5,863 X-Ray images (JPEG) and 2 categories (Pneumonia/Normal).\n",
    "\n",
    "Chest X-ray images (anterior-posterior) were selected from retrospective cohorts of pediatric patients of one to five years old from Guangzhou Women and Children’s Medical Center, Guangzhou. All chest X-ray imaging was performed as part of patients’ routine clinical care.\n",
    "\n",
    "For the analysis of chest x-ray images, all chest radiographs were initially screened for quality control by removing all low quality or unreadable scans. The diagnoses for the images were then graded by two expert physicians before being cleared for training the AI system. In order to account for any grading errors, the evaluation set was also checked by a third expert."
   ]
  },
  {
   "cell_type": "code",
   "execution_count": 6,
   "id": "631c6b86",
   "metadata": {
    "execution": {
     "iopub.execute_input": "2022-05-07T14:57:00.641160Z",
     "iopub.status.busy": "2022-05-07T14:57:00.640947Z",
     "iopub.status.idle": "2022-05-07T14:57:00.644782Z",
     "shell.execute_reply": "2022-05-07T14:57:00.644083Z"
    },
    "papermill": {
     "duration": 0.054349,
     "end_time": "2022-05-07T14:57:00.646506",
     "exception": false,
     "start_time": "2022-05-07T14:57:00.592157",
     "status": "completed"
    },
    "tags": []
   },
   "outputs": [],
   "source": [
    "path = '../../data/chest_xray/chest_xray'"
   ]
  },
  {
   "cell_type": "markdown",
   "id": "9caa052d",
   "metadata": {
    "papermill": {
     "duration": 0.04709,
     "end_time": "2022-05-07T14:57:00.741332",
     "exception": false,
     "start_time": "2022-05-07T14:57:00.694242",
     "status": "completed"
    },
    "tags": []
   },
   "source": [
    "The next function creates a dataframe that contains links to images from both classes and target values."
   ]
  },
  {
   "cell_type": "code",
   "execution_count": 7,
   "id": "bd1e4124",
   "metadata": {
    "execution": {
     "iopub.execute_input": "2022-05-07T14:57:00.836742Z",
     "iopub.status.busy": "2022-05-07T14:57:00.836529Z",
     "iopub.status.idle": "2022-05-07T14:57:00.842844Z",
     "shell.execute_reply": "2022-05-07T14:57:00.842143Z"
    },
    "papermill": {
     "duration": 0.056295,
     "end_time": "2022-05-07T14:57:00.844561",
     "exception": false,
     "start_time": "2022-05-07T14:57:00.788266",
     "status": "completed"
    },
    "tags": []
   },
   "outputs": [],
   "source": [
    "def df_from_dir(path, directory):\n",
    "    path_to_nrm = os.path.join(path, directory, 'NORMAL')\n",
    "    path_to_pn = os.path.join(path, directory, 'PNEUMONIA')\n",
    "    \n",
    "    list_class_nrm = [0] * len(os.listdir(path_to_nrm))\n",
    "    list_class_pn = [1] * len(os.listdir(path_to_pn))\n",
    "    \n",
    "    list_path_nrm = [os.path.join(path_to_nrm, filename) for filename in os.listdir(path_to_nrm)]\n",
    "    list_path_pn = [os.path.join(path_to_pn, filename) for filename in os.listdir(path_to_pn)]\n",
    "    \n",
    "    return pd.DataFrame({'path': list_path_nrm + list_path_pn, 'class': list_class_nrm + list_class_pn})"
   ]
  },
  {
   "cell_type": "code",
   "execution_count": 8,
   "id": "3fec7dd5",
   "metadata": {
    "execution": {
     "iopub.execute_input": "2022-05-07T14:57:00.939942Z",
     "iopub.status.busy": "2022-05-07T14:57:00.939325Z",
     "iopub.status.idle": "2022-05-07T14:57:01.316823Z",
     "shell.execute_reply": "2022-05-07T14:57:01.315962Z"
    },
    "papermill": {
     "duration": 0.427353,
     "end_time": "2022-05-07T14:57:01.319335",
     "exception": false,
     "start_time": "2022-05-07T14:57:00.891982",
     "status": "completed"
    },
    "tags": []
   },
   "outputs": [],
   "source": [
    "train_df = df_from_dir(path, 'train')\n",
    "valid_add_df = df_from_dir(path, 'val')\n",
    "test_df = df_from_dir(path, 'test')"
   ]
  },
  {
   "cell_type": "code",
   "execution_count": 9,
   "id": "b87239bd",
   "metadata": {
    "execution": {
     "iopub.execute_input": "2022-05-07T14:57:01.474287Z",
     "iopub.status.busy": "2022-05-07T14:57:01.473971Z",
     "iopub.status.idle": "2022-05-07T14:57:01.494576Z",
     "shell.execute_reply": "2022-05-07T14:57:01.493977Z"
    },
    "papermill": {
     "duration": 0.103215,
     "end_time": "2022-05-07T14:57:01.499926",
     "exception": false,
     "start_time": "2022-05-07T14:57:01.396711",
     "status": "completed"
    },
    "tags": []
   },
   "outputs": [
    {
     "data": {
      "text/html": [
       "<div>\n",
       "<style scoped>\n",
       "    .dataframe tbody tr th:only-of-type {\n",
       "        vertical-align: middle;\n",
       "    }\n",
       "\n",
       "    .dataframe tbody tr th {\n",
       "        vertical-align: top;\n",
       "    }\n",
       "\n",
       "    .dataframe thead th {\n",
       "        text-align: right;\n",
       "    }\n",
       "</style>\n",
       "<table border=\"1\" class=\"dataframe\">\n",
       "  <thead>\n",
       "    <tr style=\"text-align: right;\">\n",
       "      <th></th>\n",
       "      <th>path</th>\n",
       "      <th>class</th>\n",
       "    </tr>\n",
       "  </thead>\n",
       "  <tbody>\n",
       "    <tr>\n",
       "      <th>0</th>\n",
       "      <td>../../data/chest_xray/chest_xray/train/NORMAL/...</td>\n",
       "      <td>0</td>\n",
       "    </tr>\n",
       "    <tr>\n",
       "      <th>1</th>\n",
       "      <td>../../data/chest_xray/chest_xray/train/NORMAL/...</td>\n",
       "      <td>0</td>\n",
       "    </tr>\n",
       "    <tr>\n",
       "      <th>2</th>\n",
       "      <td>../../data/chest_xray/chest_xray/train/NORMAL/...</td>\n",
       "      <td>0</td>\n",
       "    </tr>\n",
       "    <tr>\n",
       "      <th>3</th>\n",
       "      <td>../../data/chest_xray/chest_xray/train/NORMAL/...</td>\n",
       "      <td>0</td>\n",
       "    </tr>\n",
       "    <tr>\n",
       "      <th>4</th>\n",
       "      <td>../../data/chest_xray/chest_xray/train/NORMAL/...</td>\n",
       "      <td>0</td>\n",
       "    </tr>\n",
       "  </tbody>\n",
       "</table>\n",
       "</div>"
      ],
      "text/plain": [
       "                                                path  class\n",
       "0  ../../data/chest_xray/chest_xray/train/NORMAL/...      0\n",
       "1  ../../data/chest_xray/chest_xray/train/NORMAL/...      0\n",
       "2  ../../data/chest_xray/chest_xray/train/NORMAL/...      0\n",
       "3  ../../data/chest_xray/chest_xray/train/NORMAL/...      0\n",
       "4  ../../data/chest_xray/chest_xray/train/NORMAL/...      0"
      ]
     },
     "execution_count": 9,
     "metadata": {},
     "output_type": "execute_result"
    }
   ],
   "source": [
    "train_df.head()"
   ]
  },
  {
   "cell_type": "markdown",
   "id": "619aaa16",
   "metadata": {
    "papermill": {
     "duration": 0.047503,
     "end_time": "2022-05-07T14:57:01.604766",
     "exception": false,
     "start_time": "2022-05-07T14:57:01.557263",
     "status": "completed"
    },
    "tags": []
   },
   "source": [
    "# 3. Data analysis\n",
    "Let's start from visualizing number of objects of each class in the training dataset."
   ]
  },
  {
   "cell_type": "code",
   "execution_count": 10,
   "id": "dcb62f1f",
   "metadata": {
    "execution": {
     "iopub.execute_input": "2022-05-07T14:57:01.703478Z",
     "iopub.status.busy": "2022-05-07T14:57:01.703233Z",
     "iopub.status.idle": "2022-05-07T14:57:01.709574Z",
     "shell.execute_reply": "2022-05-07T14:57:01.708880Z"
    },
    "papermill": {
     "duration": 0.05771,
     "end_time": "2022-05-07T14:57:01.711252",
     "exception": false,
     "start_time": "2022-05-07T14:57:01.653542",
     "status": "completed"
    },
    "tags": []
   },
   "outputs": [],
   "source": [
    "def balance_class_plot(df):\n",
    "    sns.set_theme(style='darkgrid')\n",
    "    plt.figure(figsize=(6, 6))\n",
    "    ax = sns.countplot(data=df, x='class')\n",
    "    plt.xlabel('Class', fontsize=14)\n",
    "    plt.ylabel('Count', fontsize=14)\n",
    "    plt.xticks(range(2), ['Normal', 'Pneumonia'], fontsize=14)\n",
    "    plt.show()"
   ]
  },
  {
   "cell_type": "code",
   "execution_count": 11,
   "id": "39a1688e",
   "metadata": {
    "execution": {
     "iopub.execute_input": "2022-05-07T14:57:01.809548Z",
     "iopub.status.busy": "2022-05-07T14:57:01.809332Z",
     "iopub.status.idle": "2022-05-07T14:57:02.014708Z",
     "shell.execute_reply": "2022-05-07T14:57:02.014023Z"
    },
    "papermill": {
     "duration": 0.255844,
     "end_time": "2022-05-07T14:57:02.016495",
     "exception": false,
     "start_time": "2022-05-07T14:57:01.760651",
     "status": "completed"
    },
    "tags": []
   },
   "outputs": [
    {
     "data": {
      "image/png": "[encoded data removed]",
      "text/plain": [
       "<Figure size 432x432 with 1 Axes>"
      ]
     },
     "metadata": {},
     "output_type": "display_data"
    }
   ],
   "source": [
    "balance_class_plot(train_df)"
   ]
  },
  {
   "cell_type": "markdown",
   "id": "9925b1e6",
   "metadata": {
    "papermill": {
     "duration": 0.051986,
     "end_time": "2022-05-07T14:57:02.118076",
     "exception": false,
     "start_time": "2022-05-07T14:57:02.066090",
     "status": "completed"
    },
    "tags": []
   },
   "source": [
    "As we can see, our **training dataset is imbalanced** with major class \"Pneumonia\" and minor class \"Normal\". It's a quite typical situation for medical datasets.\n",
    "\n",
    "Now let's see what we have in the validation dataset."
   ]
  },
  {
   "cell_type": "code",
   "execution_count": 12,
   "id": "166cd4fc",
   "metadata": {
    "execution": {
     "iopub.execute_input": "2022-05-07T14:57:02.213854Z",
     "iopub.status.busy": "2022-05-07T14:57:02.213625Z",
     "iopub.status.idle": "2022-05-07T14:57:02.387991Z",
     "shell.execute_reply": "2022-05-07T14:57:02.387115Z"
    },
    "papermill": {
     "duration": 0.22441,
     "end_time": "2022-05-07T14:57:02.390127",
     "exception": false,
     "start_time": "2022-05-07T14:57:02.165717",
     "status": "completed"
    },
    "tags": []
   },
   "outputs": [
    {
     "data": {
      "image/png": "[encoded data removed]",
      "text/plain": [
       "<Figure size 432x432 with 1 Axes>"
      ]
     },
     "metadata": {},
     "output_type": "display_data"
    }
   ],
   "source": [
    "balance_class_plot(valid_add_df)"
   ]
  },
  {
   "cell_type": "markdown",
   "id": "f3b16cf4",
   "metadata": {
    "papermill": {
     "duration": 0.050767,
     "end_time": "2022-05-07T14:57:02.494544",
     "exception": false,
     "start_time": "2022-05-07T14:57:02.443777",
     "status": "completed"
    },
    "tags": []
   },
   "source": [
    "So, our validation dataset is balanced, but **only has 16 objects**. Therefore, we can't rely on it.\n",
    "\n",
    "And finally, let's visualize what we have in the test dataset."
   ]
  },
  {
   "cell_type": "code",
   "execution_count": 13,
   "id": "e99e2d93",
   "metadata": {
    "execution": {
     "iopub.execute_input": "2022-05-07T14:57:02.597708Z",
     "iopub.status.busy": "2022-05-07T14:57:02.597445Z",
     "iopub.status.idle": "2022-05-07T14:57:02.770704Z",
     "shell.execute_reply": "2022-05-07T14:57:02.769970Z"
    },
    "papermill": {
     "duration": 0.226627,
     "end_time": "2022-05-07T14:57:02.772636",
     "exception": false,
     "start_time": "2022-05-07T14:57:02.546009",
     "status": "completed"
    },
    "tags": []
   },
   "outputs": [
    {
     "data": {
      "image/png": "[encoded data removed]",
      "text/plain": [
       "<Figure size 432x432 with 1 Axes>"
      ]
     },
     "metadata": {},
     "output_type": "display_data"
    }
   ],
   "source": [
    "balance_class_plot(test_df)"
   ]
  },
  {
   "cell_type": "markdown",
   "id": "815f0957",
   "metadata": {
    "papermill": {
     "duration": 0.050911,
     "end_time": "2022-05-07T14:57:02.879142",
     "exception": false,
     "start_time": "2022-05-07T14:57:02.828231",
     "status": "completed"
    },
    "tags": []
   },
   "source": [
    "As we can see, the test dataset is absolutely balanced, and we can safely use accuracy as a metric.\n",
    "\n",
    "Also, we should look closely at our images, specifically on dimensions."
   ]
  },
  {
   "cell_type": "code",
   "execution_count": 14,
   "id": "fd6f7fb9",
   "metadata": {
    "execution": {
     "iopub.execute_input": "2022-05-07T14:57:02.979635Z",
     "iopub.status.busy": "2022-05-07T14:57:02.979390Z",
     "iopub.status.idle": "2022-05-07T14:57:03.012833Z",
     "shell.execute_reply": "2022-05-07T14:57:03.011777Z"
    },
    "papermill": {
     "duration": 0.085884,
     "end_time": "2022-05-07T14:57:03.014691",
     "exception": false,
     "start_time": "2022-05-07T14:57:02.928807",
     "status": "completed"
    },
    "tags": []
   },
   "outputs": [
    {
     "name": "stdout",
     "output_type": "stream",
     "text": [
      "Shape of first random image: (1920, 2018)\n",
      "Shape of second random image: (886, 1110)\n"
     ]
    }
   ],
   "source": [
    "first_random_image = Image.open(train_df.loc[0, 'path'])\n",
    "first_random_image = np.array(first_random_image)\n",
    "\n",
    "second_random_image = Image.open(train_df.loc[1345, 'path'])\n",
    "second_random_image = np.array(second_random_image)\n",
    "\n",
    "print(f'Shape of first random image: {first_random_image.shape}\\nShape of second random image: {second_random_image.shape}')"
   ]
  },
  {
   "cell_type": "markdown",
   "id": "372f07a2",
   "metadata": {
    "papermill": {
     "duration": 0.051661,
     "end_time": "2022-05-07T14:57:03.117876",
     "exception": false,
     "start_time": "2022-05-07T14:57:03.066215",
     "status": "completed"
    },
    "tags": []
   },
   "source": [
    "There are two conclusions from this output:\n",
    "\n",
    "**First**, images in this dataset have different resolutions;\n",
    "\n",
    "**Second**, some of images even have different amount of channels."
   ]
  },
  {
   "cell_type": "markdown",
   "id": "2d9474c2",
   "metadata": {
    "papermill": {
     "duration": 0.050278,
     "end_time": "2022-05-07T14:57:03.217567",
     "exception": false,
     "start_time": "2022-05-07T14:57:03.167289",
     "status": "completed"
    },
    "tags": []
   },
   "source": [
    "# 4. Data preprocessing\n",
    "Before training the model and making predictions, we need to prepare our data based on conclusions from the analysis."
   ]
  },
  {
   "cell_type": "markdown",
   "id": "72639011",
   "metadata": {
    "papermill": {
     "duration": 0.049511,
     "end_time": "2022-05-07T14:57:03.316502",
     "exception": false,
     "start_time": "2022-05-07T14:57:03.266991",
     "status": "completed"
    },
    "tags": []
   },
   "source": [
    "# 4.1 Improving validation dataset\n",
    "To correct the validation dataset we sacrifice and give 10% of the training dataset to validation."
   ]
  },
  {
   "cell_type": "code",
   "execution_count": 15,
   "id": "df902ad3",
   "metadata": {
    "execution": {
     "iopub.execute_input": "2022-05-07T14:57:03.416910Z",
     "iopub.status.busy": "2022-05-07T14:57:03.416649Z",
     "iopub.status.idle": "2022-05-07T14:57:03.424650Z",
     "shell.execute_reply": "2022-05-07T14:57:03.423953Z"
    },
    "papermill": {
     "duration": 0.061269,
     "end_time": "2022-05-07T14:57:03.426399",
     "exception": false,
     "start_time": "2022-05-07T14:57:03.365130",
     "status": "completed"
    },
    "tags": []
   },
   "outputs": [],
   "source": [
    "train_ds, valid_ds = train_test_split(train_df, test_size=0.1)\n",
    "valid_ds = valid_ds.append(valid_add_df)"
   ]
  },
  {
   "cell_type": "code",
   "execution_count": 16,
   "id": "977a945a",
   "metadata": {
    "execution": {
     "iopub.execute_input": "2022-05-07T14:57:03.529571Z",
     "iopub.status.busy": "2022-05-07T14:57:03.529366Z",
     "iopub.status.idle": "2022-05-07T14:57:03.533595Z",
     "shell.execute_reply": "2022-05-07T14:57:03.532887Z"
    },
    "papermill": {
     "duration": 0.057404,
     "end_time": "2022-05-07T14:57:03.535277",
     "exception": false,
     "start_time": "2022-05-07T14:57:03.477873",
     "status": "completed"
    },
    "tags": []
   },
   "outputs": [],
   "source": [
    "train_ds = train_ds.reset_index(drop=True)\n",
    "valid_ds = valid_ds.reset_index(drop=True)"
   ]
  },
  {
   "cell_type": "markdown",
   "id": "16bb628f",
   "metadata": {
    "papermill": {
     "duration": 0.04876,
     "end_time": "2022-05-07T14:57:03.635032",
     "exception": false,
     "start_time": "2022-05-07T14:57:03.586272",
     "status": "completed"
    },
    "tags": []
   },
   "source": [
    "# 4.2 Image augmentation\n",
    "\n",
    "**Image augmentation** is a process of creating new training examples from the existing ones. To make a new sample, you slightly change the original image. For instance, you could make a new image a little brighter; you could cut a piece from the original image; you could make a new image by mirroring the original one, etc. By applying those transformations to the original training dataset, you could create an almost infinite amount of new training samples.\n",
    "\n",
    "There is two main reasons for applying image augmentation:\n",
    "\n",
    "**First**, increase the size of the dataset;\n",
    "\n",
    "**Second**, prevent overfitting.  \n",
    " \n",
    "The next transformation will be applied to each image in the validation and test dataset."
   ]
  },
  {
   "cell_type": "code",
   "execution_count": 17,
   "id": "d05c5b78",
   "metadata": {
    "execution": {
     "iopub.execute_input": "2022-05-07T14:57:03.734131Z",
     "iopub.status.busy": "2022-05-07T14:57:03.733609Z",
     "iopub.status.idle": "2022-05-07T14:57:03.737725Z",
     "shell.execute_reply": "2022-05-07T14:57:03.737084Z"
    },
    "papermill": {
     "duration": 0.056054,
     "end_time": "2022-05-07T14:57:03.739583",
     "exception": false,
     "start_time": "2022-05-07T14:57:03.683529",
     "status": "completed"
    },
    "tags": []
   },
   "outputs": [],
   "source": [
    "resize_transformation = T.Compose([T.Resize((224, 224)),\n",
    "                                   T.Grayscale(num_output_channels=3),\n",
    "                                   T.ToTensor()\n",
    "])"
   ]
  },
  {
   "cell_type": "markdown",
   "id": "6b4ba9e7",
   "metadata": {
    "papermill": {
     "duration": 0.050243,
     "end_time": "2022-05-07T14:57:03.838517",
     "exception": false,
     "start_time": "2022-05-07T14:57:03.788274",
     "status": "completed"
    },
    "tags": []
   },
   "source": [
    "This transformation only resize image to 224x224, which is widespread resolution for input in pretrained models, ensure to have 3 chanels in each image and convert it to pytorch tensor.\n",
    "\n",
    "The next transformation will be applied to the test dataset."
   ]
  },
  {
   "cell_type": "code",
   "execution_count": 18,
   "id": "b04044d2",
   "metadata": {
    "execution": {
     "iopub.execute_input": "2022-05-07T14:57:03.939284Z",
     "iopub.status.busy": "2022-05-07T14:57:03.939055Z",
     "iopub.status.idle": "2022-05-07T14:57:03.943878Z",
     "shell.execute_reply": "2022-05-07T14:57:03.943235Z"
    },
    "papermill": {
     "duration": 0.057658,
     "end_time": "2022-05-07T14:57:03.945555",
     "exception": false,
     "start_time": "2022-05-07T14:57:03.887897",
     "status": "completed"
    },
    "tags": []
   },
   "outputs": [],
   "source": [
    "PT_transformation = T.Compose([T.Resize((224, 224)),\n",
    "                               T.RandomAffine(degrees=(-10, 10), translate=(0.1, 0.1)),\n",
    "                               T.RandomHorizontalFlip(p=0.5),\n",
    "                               T.Grayscale(num_output_channels=3),\n",
    "                               T.ToTensor()\n",
    "])"
   ]
  },
  {
   "cell_type": "markdown",
   "id": "dee31d94",
   "metadata": {
    "papermill": {
     "duration": 0.050209,
     "end_time": "2022-05-07T14:57:04.048074",
     "exception": false,
     "start_time": "2022-05-07T14:57:03.997865",
     "status": "completed"
    },
    "tags": []
   },
   "source": [
    "This transformation will do next:\n",
    "- Resize an image to 224x224;\n",
    "- Randomly rotate an image in the range (-10; 10) degrees;\n",
    "- Randomly shift, both vertical and horizontal, by up to 10% of its resolution;\n",
    "- Flip the image horizontal with a 50% chance;\n",
    "- Ensure to have 3 channels in an image;\n",
    "- Convert image to pytorch tensor.\n",
    "\n",
    "You may ask, why did I choose specifically these transformations with these values? Because there were tested different combinations of transformations and values behind the scenes, and namely this configuration gives the best result with the choosed model (about which we will talk later :) ). \n",
    "\n",
    "**Note:** applying transformations before converting images to a three-channel format will noticeably decrease training time. For instance, performing the same notebook (one of the versions) but with mentioned changes speed it up from 1 hour 10 minutes to 57 minutes.\n",
    "\n",
    "**Note 2:** ToTensor() convert a PIL Image in the range [0, 255] to a torch.FloatTensor in the range [0.0, 1.0], i.e. it also perform image normalization."
   ]
  },
  {
   "cell_type": "markdown",
   "id": "cd408741",
   "metadata": {
    "papermill": {
     "duration": 0.050092,
     "end_time": "2022-05-07T14:57:04.152809",
     "exception": false,
     "start_time": "2022-05-07T14:57:04.102717",
     "status": "completed"
    },
    "tags": []
   },
   "source": [
    "# 4.3 Applying oversampling technique\n",
    "As we know, our training dataset is imbalanced. If we ignore this, we will lose \"real accuracy\". Why \"real accuracy\" instead of common accuracy? If the dataset is highly imbalanced, the model will get a pretty high accuracy just by predicting the majority class, but fail to capture the minority class. For example, the major class contains 99% of the objects and the minor only 1%. If the model always predict major class, the accuracy will be 99%. \n",
    "\n",
    "There are some techniques for handling class imbalance.\n",
    "\n",
    "First is **undersampling**. In this technique, we randomly remove samples from the majority class until all the classes have the same number of samples. This technique has a significant disadvantage in that it discards data which might lead to a reduction in the number of representative samples in the dataset.\n",
    "\n",
    "Next is **oversampling**. In this technique, we try to make the distribution of all the classes equal in a mini-batch by sampling an equal number of samples from all the classes thereby sampling more examples from minority classes as compared to majority classes. Practically it is done by increasing the sampling probability of examples belonging to minority class thereby down-weighing the sampling probability of examples belonging to the majority class. \n",
    "\n",
    "In **cost-sensitive learning**, the basic idea is to assign different costs to classes according to their distribution. There are various ways of implementing cost-sensitive learning like using higher learning rate for examples belonging to majority class as compared to examples belonging to minority class or using class weighted loss functions which calculate loss by taking the class distribution into account and hence penalize the classifier more for misclassifying examples from minority class as compared to majority class.\n",
    "\n",
    "(most information about this techniques was taken from [this article](https://towardsdatascience.com/class-imbalance-d90f985c681e))\n",
    "\n",
    "Oversampling and cost-sensitive learning showed the almost identical result, although the second was a little harder to implement and work with. So, I used oversampling technique in this notebook."
   ]
  },
  {
   "cell_type": "code",
   "execution_count": 19,
   "id": "ebe2ab57",
   "metadata": {
    "execution": {
     "iopub.execute_input": "2022-05-07T14:57:04.252557Z",
     "iopub.status.busy": "2022-05-07T14:57:04.252288Z",
     "iopub.status.idle": "2022-05-07T14:57:04.256858Z",
     "shell.execute_reply": "2022-05-07T14:57:04.256234Z"
    },
    "papermill": {
     "duration": 0.056454,
     "end_time": "2022-05-07T14:57:04.258551",
     "exception": false,
     "start_time": "2022-05-07T14:57:04.202097",
     "status": "completed"
    },
    "tags": []
   },
   "outputs": [],
   "source": [
    "def weight_sampler_over(targets, length):\n",
    "    classes, counts = np.unique(targets, return_counts=True)\n",
    "    weight = (1/counts)[targets]\n",
    "    sampler = WeightedRandomSampler(weight, length)\n",
    "    return sampler"
   ]
  },
  {
   "cell_type": "code",
   "execution_count": 20,
   "id": "a880915b",
   "metadata": {
    "execution": {
     "iopub.execute_input": "2022-05-07T14:57:04.357670Z",
     "iopub.status.busy": "2022-05-07T14:57:04.357128Z",
     "iopub.status.idle": "2022-05-07T14:57:04.366952Z",
     "shell.execute_reply": "2022-05-07T14:57:04.366298Z"
    },
    "papermill": {
     "duration": 0.061354,
     "end_time": "2022-05-07T14:57:04.368811",
     "exception": false,
     "start_time": "2022-05-07T14:57:04.307457",
     "status": "completed"
    },
    "tags": []
   },
   "outputs": [],
   "source": [
    "train_sampler = weight_sampler_over(np.array(train_ds.loc[:,'class']), np.array(train_ds.loc[:,'class']).shape[0])\n",
    "valid_sampler = weight_sampler_over(np.array(valid_ds.loc[:,'class']), np.array(valid_ds.loc[:,'class']).shape[0])"
   ]
  },
  {
   "cell_type": "markdown",
   "id": "c34a6b28",
   "metadata": {
    "papermill": {
     "duration": 0.048791,
     "end_time": "2022-05-07T14:57:04.471321",
     "exception": false,
     "start_time": "2022-05-07T14:57:04.422530",
     "status": "completed"
    },
    "tags": []
   },
   "source": [
    "# 4.4 Creating custom dataset\n",
    "Now we are going to create a class for a custom dataset. It will store the dataframe and transformation for it. Also, it will give a transformed image with a label on request."
   ]
  },
  {
   "cell_type": "code",
   "execution_count": 21,
   "id": "78a6b087",
   "metadata": {
    "execution": {
     "iopub.execute_input": "2022-05-07T14:57:04.573619Z",
     "iopub.status.busy": "2022-05-07T14:57:04.573418Z",
     "iopub.status.idle": "2022-05-07T14:57:04.578808Z",
     "shell.execute_reply": "2022-05-07T14:57:04.578103Z"
    },
    "papermill": {
     "duration": 0.058726,
     "end_time": "2022-05-07T14:57:04.580632",
     "exception": false,
     "start_time": "2022-05-07T14:57:04.521906",
     "status": "completed"
    },
    "tags": []
   },
   "outputs": [],
   "source": [
    "class MyDataset(Dataset):\n",
    "    def __init__(self, dataframe, transform):\n",
    "        self.dataframe = dataframe\n",
    "        self.transform = transform\n",
    "        \n",
    "    def __len__(self):\n",
    "        return self.dataframe.shape[0]\n",
    "    \n",
    "    def __getitem__(self, index):\n",
    "        label = self.dataframe.loc[index, 'class']\n",
    "        image = Image.open(self.dataframe.loc[index, 'path'])\n",
    "        image = self.transform(image)\n",
    "        return image, label"
   ]
  },
  {
   "cell_type": "code",
   "execution_count": 22,
   "id": "b1dc4047",
   "metadata": {
    "execution": {
     "iopub.execute_input": "2022-05-07T14:57:04.682532Z",
     "iopub.status.busy": "2022-05-07T14:57:04.682339Z",
     "iopub.status.idle": "2022-05-07T14:57:04.685935Z",
     "shell.execute_reply": "2022-05-07T14:57:04.685264Z"
    },
    "papermill": {
     "duration": 0.056194,
     "end_time": "2022-05-07T14:57:04.687562",
     "exception": false,
     "start_time": "2022-05-07T14:57:04.631368",
     "status": "completed"
    },
    "tags": []
   },
   "outputs": [],
   "source": [
    "train_dataset = MyDataset(train_ds, PT_transformation)\n",
    "valid_dataset = MyDataset(valid_ds, resize_transformation)\n",
    "test_dataset = MyDataset(test_df, resize_transformation)"
   ]
  },
  {
   "cell_type": "code",
   "execution_count": 23,
   "id": "0b164082",
   "metadata": {},
   "outputs": [
    {
     "data": {
      "text/plain": [
       "4694"
      ]
     },
     "execution_count": 23,
     "metadata": {},
     "output_type": "execute_result"
    }
   ],
   "source": [
    "len(train_dataset)"
   ]
  },
  {
   "cell_type": "markdown",
   "id": "8a342707",
   "metadata": {
    "papermill": {
     "duration": 0.048659,
     "end_time": "2022-05-07T14:57:04.786545",
     "exception": false,
     "start_time": "2022-05-07T14:57:04.737886",
     "status": "completed"
    },
    "tags": []
   },
   "source": [
    "Then, create dataloaders for each dataset to give batches of images instead of single images to the model."
   ]
  },
  {
   "cell_type": "code",
   "execution_count": 24,
   "id": "2ae7513e",
   "metadata": {},
   "outputs": [],
   "source": [
    "\n",
    "\n",
    "bs = 32\n",
    "train_dl = DataLoader(train_dataset, batch_size=bs, pin_memory=True, sampler=train_sampler)\n",
    "valid_dl = DataLoader(valid_dataset, batch_size=bs*2, pin_memory=True, sampler=valid_sampler)\n",
    "test_dl = DataLoader(test_dataset, batch_size=bs*2, pin_memory=True)\n",
    "\n"
   ]
  },
  {
   "cell_type": "code",
   "execution_count": 58,
   "id": "e07cf1a3",
   "metadata": {},
   "outputs": [],
   "source": [
    "#Utility functions to un-normalize and display an image\n",
    "def imshow(img):\n",
    "    #img = img / 2 + 0.5  \n",
    "    plt.imshow(np.transpose(img, (1, 2, 0))) "
   ]
  },
  {
   "cell_type": "code",
   "execution_count": 59,
   "id": "4da8930a",
   "metadata": {},
   "outputs": [
    {
     "data": {
      "image/png": "[encoded data removed]",
      "text/plain": [
       "<Figure size 576x576 with 9 Axes>"
      ]
     },
     "metadata": {},
     "output_type": "display_data"
    }
   ],
   "source": [
    "#Obtain one batch of training images\n",
    "dataiter = iter(train_dl)\n",
    "images, labels = dataiter.next()\n",
    "images = images.numpy() # convert images to numpy for display\n",
    "\n",
    "#Plot the images\n",
    "fig = plt.figure(figsize=(8, 8))\n",
    "# display 20 images\n",
    "for idx in np.arange(9):\n",
    "    ax = fig.add_subplot(3, 3, idx+1, xticks=[], yticks=[])\n",
    "    imshow(images[idx])\n",
    "    #ax.set_title(classes[labels[idx]])"
   ]
  },
  {
   "cell_type": "code",
   "execution_count": 60,
   "id": "eed54626",
   "metadata": {},
   "outputs": [],
   "source": [
    "#Define the Convolutional Autoencoder\n",
    "class ConvAutoencoder(nn.Module):\n",
    "    def __init__(self):\n",
    "        super(ConvAutoencoder, self).__init__()\n",
    "       \n",
    "        #Encoder\n",
    "        self.conv1 = nn.Conv2d(3, 16, 3, padding=1)  \n",
    "        self.conv2 = nn.Conv2d(16, 4, 3, padding=1)\n",
    "        self.pool = nn.MaxPool2d(2, 2)\n",
    "       \n",
    "        #Decoder\n",
    "        self.t_conv1 = nn.ConvTranspose2d(4, 16, 2, stride=2)\n",
    "        self.t_conv2 = nn.ConvTranspose2d(16, 3, 2, stride=2)\n",
    "\n",
    "\n",
    "    def forward(self, x):\n",
    "        x = F.relu(self.conv1(x))\n",
    "        x = self.pool(x)\n",
    "        x = F.relu(self.conv2(x))\n",
    "        x = self.pool(x)\n",
    "        x = F.relu(self.t_conv1(x))\n",
    "        x = F.sigmoid(self.t_conv2(x))\n",
    "              \n",
    "        return x\n"
   ]
  },
  {
   "cell_type": "code",
   "execution_count": 61,
   "id": "917b1d3d",
   "metadata": {},
   "outputs": [
    {
     "name": "stdout",
     "output_type": "stream",
     "text": [
      "ConvAutoencoder(\n",
      "  (conv1): Conv2d(3, 16, kernel_size=(3, 3), stride=(1, 1), padding=(1, 1))\n",
      "  (conv2): Conv2d(16, 4, kernel_size=(3, 3), stride=(1, 1), padding=(1, 1))\n",
      "  (pool): MaxPool2d(kernel_size=2, stride=2, padding=0, dilation=1, ceil_mode=False)\n",
      "  (t_conv1): ConvTranspose2d(4, 16, kernel_size=(2, 2), stride=(2, 2))\n",
      "  (t_conv2): ConvTranspose2d(16, 3, kernel_size=(2, 2), stride=(2, 2))\n",
      ")\n"
     ]
    }
   ],
   "source": [
    "model = ConvAutoencoder()\n",
    "print(model)"
   ]
  },
  {
   "cell_type": "code",
   "execution_count": 62,
   "id": "eda5d3b2",
   "metadata": {},
   "outputs": [],
   "source": [
    "#Loss function\n",
    "criterion = nn.BCELoss()\n",
    "\n",
    "#Optimizer\n",
    "optimizer = torch.optim.Adam(model.parameters(), lr=0.001)"
   ]
  },
  {
   "cell_type": "code",
   "execution_count": 63,
   "id": "430d5ef8",
   "metadata": {},
   "outputs": [
    {
     "name": "stdout",
     "output_type": "stream",
     "text": [
      "cpu\n"
     ]
    },
    {
     "data": {
      "text/plain": [
       "ConvAutoencoder(\n",
       "  (conv1): Conv2d(3, 16, kernel_size=(3, 3), stride=(1, 1), padding=(1, 1))\n",
       "  (conv2): Conv2d(16, 4, kernel_size=(3, 3), stride=(1, 1), padding=(1, 1))\n",
       "  (pool): MaxPool2d(kernel_size=2, stride=2, padding=0, dilation=1, ceil_mode=False)\n",
       "  (t_conv1): ConvTranspose2d(4, 16, kernel_size=(2, 2), stride=(2, 2))\n",
       "  (t_conv2): ConvTranspose2d(16, 3, kernel_size=(2, 2), stride=(2, 2))\n",
       ")"
      ]
     },
     "execution_count": 63,
     "metadata": {},
     "output_type": "execute_result"
    }
   ],
   "source": [
    "def get_device():\n",
    "    if torch.cuda.is_available():\n",
    "        device = 'cuda:0'\n",
    "    else:\n",
    "        device = 'cpu'\n",
    "    return device\n",
    "\n",
    "device = get_device()\n",
    "print(device)\n",
    "model.to(device)"
   ]
  },
  {
   "cell_type": "code",
   "execution_count": 65,
   "id": "10b93722",
   "metadata": {},
   "outputs": [],
   "source": [
    "import numpy as np\n",
    "import torch\n",
    "import torch.nn as nn\n",
    "import torch.nn.functional as F\n",
    "import torch.optim as optim\n",
    "import matplotlib.pyplot as plt\n",
    "from torch.utils.data.sampler import SubsetRandomSampler\n",
    "from torch.utils.data import DataLoader\n",
    "from torchvision import datasets, transforms\n",
    "import matplotlib.pyplot as plt\n",
    "%matplotlib inline\n",
    "import torch.nn as nn\n",
    "import torch.nn.functional as F"
   ]
  },
  {
   "cell_type": "code",
   "execution_count": 68,
   "id": "9ac03e27",
   "metadata": {},
   "outputs": [
    {
     "name": "stdout",
     "output_type": "stream",
     "text": [
      "Epoch: 1 \tTraining Loss: 16.643382\n",
      "Epoch: 2 \tTraining Loss: 16.658595\n",
      "Epoch: 3 \tTraining Loss: 16.650768\n",
      "Epoch: 4 \tTraining Loss: 16.662046\n"
     ]
    }
   ],
   "source": [
    "#Epochs\n",
    "n_epochs = 4\n",
    "\n",
    "for epoch in range(1, n_epochs+1):\n",
    "    # monitor training loss\n",
    "    train_loss = 0.0\n",
    "\n",
    "    #Training\n",
    "    for data in train_dl:\n",
    "        images, _ = data\n",
    "        images = images.to(device)\n",
    "        optimizer.zero_grad()\n",
    "        outputs = model(images)\n",
    "        loss = criterion(outputs, images)\n",
    "        loss.backward()\n",
    "        optimizer.step()\n",
    "        train_loss += loss.item()*images.size(0)\n",
    "          \n",
    "    train_loss = train_loss/len(train_dl)\n",
    "    print('Epoch: {} \\tTraining Loss: {:.6f}'.format(epoch, train_loss))"
   ]
  },
  {
   "cell_type": "code",
   "execution_count": 69,
   "id": "212bbcb9",
   "metadata": {},
   "outputs": [],
   "source": [
    "#Batch of test images\n",
    "dataiter = iter(test_dl)\n",
    "images, labels = dataiter.next()\n",
    "\n",
    "#Sample outputs\n",
    "output = model(images)\n",
    "images = images.numpy()"
   ]
  },
  {
   "cell_type": "code",
   "execution_count": null,
   "id": "3d5c0e31",
   "metadata": {},
   "outputs": [],
   "source": [
    "output = output.view(batch_size, 3, 32, 32)\n",
    "output = output.detach().numpy()\n",
    "\n",
    "#Original Images\n",
    "print(\"Original Images\")\n",
    "fig, axes = plt.subplots(nrows=1, ncols=5, sharex=True, sharey=True, figsize=(12,4))\n",
    "for idx in np.arange(5):\n",
    "    ax = fig.add_subplot(1, 5, idx+1, xticks=[], yticks=[])\n",
    "    imshow(images[idx])\n",
    "    ax.set_title(classes[labels[idx]])\n",
    "plt.show()"
   ]
  },
  {
   "cell_type": "code",
   "execution_count": null,
   "id": "9482ea28",
   "metadata": {},
   "outputs": [],
   "source": [
    "#Reconstructed Images\n",
    "print('Reconstructed Images')\n",
    "fig, axes = plt.subplots(nrows=1, ncols=5, sharex=True, sharey=True, figsize=(12,4))\n",
    "for idx in np.arange(5):\n",
    "    ax = fig.add_subplot(1, 5, idx+1, xticks=[], yticks=[])\n",
    "    imshow(output[idx])\n",
    "    ax.set_title(classes[labels[idx]])\n",
    "plt.show() "
   ]
  },
  {
   "cell_type": "code",
   "execution_count": 35,
   "id": "4f48b715",
   "metadata": {},
   "outputs": [
    {
     "name": "stderr",
     "output_type": "stream",
     "text": [
      "2022-05-26 20:32:43.149450: E tensorflow/stream_executor/cuda/cuda_driver.cc:271] failed call to cuInit: CUDA_ERROR_NO_DEVICE: no CUDA-capable device is detected\n",
      "2022-05-26 20:32:43.149479: I tensorflow/stream_executor/cuda/cuda_diagnostics.cc:156] kernel driver does not appear to be running on this host (iotg): /proc/driver/nvidia/version does not exist\n",
      "2022-05-26 20:32:43.149695: I tensorflow/core/platform/cpu_feature_guard.cc:151] This TensorFlow binary is optimized with oneAPI Deep Neural Network Library (oneDNN) to use the following CPU instructions in performance-critical operations:  AVX2 AVX512F FMA\n",
      "To enable them in other operations, rebuild TensorFlow with the appropriate compiler flags.\n"
     ]
    }
   ],
   "source": [
    "from keras.layers import Input, Dense, Conv2D, MaxPooling2D, UpSampling2D\n",
    "from keras.models import Model\n",
    "from keras import backend as K\n",
    "\n",
    "input_img = Input(shape=(224, 224, 3))\n",
    "\n",
    "x = Conv2D(128, (3, 3), activation='relu', padding='same')(input_img)\n",
    "x = MaxPooling2D((2,2), padding='same')(x)\n",
    "x = Conv2D(64, (3, 3), activation='relu', padding='same')(x)\n",
    "x = MaxPooling2D((2,2), padding='same')(x)\n",
    "x = Conv2D(32, (3, 3), activation='relu', padding='same')(x)\n",
    "encoded = MaxPooling2D((2,2), padding='same')(x)"
   ]
  },
  {
   "cell_type": "code",
   "execution_count": 37,
   "id": "4aeb2356",
   "metadata": {},
   "outputs": [
    {
     "name": "stdout",
     "output_type": "stream",
     "text": [
      "Model: \"model\"\n",
      "_________________________________________________________________\n",
      " Layer (type)                Output Shape              Param #   \n",
      "=================================================================\n",
      " input_1 (InputLayer)        [(None, 224, 224, 3)]     0         \n",
      "                                                                 \n",
      " conv2d (Conv2D)             (None, 224, 224, 128)     3584      \n",
      "                                                                 \n",
      " max_pooling2d (MaxPooling2D  (None, 112, 112, 128)    0         \n",
      " )                                                               \n",
      "                                                                 \n",
      " conv2d_1 (Conv2D)           (None, 112, 112, 64)      73792     \n",
      "                                                                 \n",
      " max_pooling2d_1 (MaxPooling  (None, 56, 56, 64)       0         \n",
      " 2D)                                                             \n",
      "                                                                 \n",
      " conv2d_2 (Conv2D)           (None, 56, 56, 32)        18464     \n",
      "                                                                 \n",
      " max_pooling2d_2 (MaxPooling  (None, 28, 28, 32)       0         \n",
      " 2D)                                                             \n",
      "                                                                 \n",
      " conv2d_4 (Conv2D)           (None, 28, 28, 32)        9248      \n",
      "                                                                 \n",
      " up_sampling2d (UpSampling2D  (None, 56, 56, 32)       0         \n",
      " )                                                               \n",
      "                                                                 \n",
      " conv2d_5 (Conv2D)           (None, 56, 56, 64)        18496     \n",
      "                                                                 \n",
      " up_sampling2d_1 (UpSampling  (None, 112, 112, 64)     0         \n",
      " 2D)                                                             \n",
      "                                                                 \n",
      " conv2d_6 (Conv2D)           (None, 110, 110, 128)     73856     \n",
      "                                                                 \n",
      " up_sampling2d_2 (UpSampling  (None, 220, 220, 128)    0         \n",
      " 2D)                                                             \n",
      "                                                                 \n",
      " conv2d_7 (Conv2D)           (None, 220, 220, 1)       1153      \n",
      "                                                                 \n",
      "=================================================================\n",
      "Total params: 198,593\n",
      "Trainable params: 198,593\n",
      "Non-trainable params: 0\n",
      "_________________________________________________________________\n"
     ]
    }
   ],
   "source": [
    "x = Conv2D(32, (3, 3), activation='relu', padding='same')(encoded)\n",
    "x = UpSampling2D((2,2))(x)\n",
    "x = Conv2D(64, (3, 3), activation='relu', padding='same')(x)\n",
    "x = UpSampling2D((2,2))(x)\n",
    "x = Conv2D(128, (3, 3), activation='relu')(x)\n",
    "x = UpSampling2D((2,2))(x)\n",
    "decoded = Conv2D(1, (3, 3), activation='sigmoid', padding='same')(x)\n",
    "\n",
    "autoencoder = Model(input_img, decoded)\n",
    "\n",
    "autoencoder.summary()"
   ]
  },
  {
   "cell_type": "code",
   "execution_count": 44,
   "id": "cb37d939",
   "metadata": {},
   "outputs": [],
   "source": [
    "from keras import optimizers\n",
    "from tensorflow.keras.optimizers import RMSprop, Adam, Nadam\n",
    "#from tensorflow.keras.optimizers import RMSprop\n",
    "autoencoder.compile(optimizer=RMSprop(), \n",
    "                    loss='mean_squared_error',\n",
    "                    metrics=['mae', 'accuracy'])"
   ]
  },
  {
   "cell_type": "code",
   "execution_count": 45,
   "id": "3f84075a",
   "metadata": {},
   "outputs": [],
   "source": [
    "batch_size =32\n",
    "epochs = 2"
   ]
  },
  {
   "cell_type": "code",
   "execution_count": null,
   "id": "204cd36c",
   "metadata": {},
   "outputs": [],
   "source": [
    "train_x = np.asarray(train_dataset).astype('float32')\n",
    "#train_y = np.asarray(train_y)\n",
    "validation_x = np.asarray(valid_dataset).astype('float32')\n",
    "#validation_y = np.asarray(validation_y)"
   ]
  },
  {
   "cell_type": "code",
   "execution_count": 50,
   "id": "cc27265c",
   "metadata": {},
   "outputs": [
    {
     "ename": "ValueError",
     "evalue": "Failed to convert a NumPy array to a Tensor (Unsupported object type DataLoader).",
     "output_type": "error",
     "traceback": [
      "\u001b[0;31m---------------------------------------------------------------------------\u001b[0m",
      "\u001b[0;31mValueError\u001b[0m                                Traceback (most recent call last)",
      "Input \u001b[0;32mIn [50]\u001b[0m, in \u001b[0;36m<module>\u001b[0;34m\u001b[0m\n\u001b[0;32m----> 1\u001b[0m history \u001b[38;5;241m=\u001b[39m \u001b[43mautoencoder\u001b[49m\u001b[38;5;241;43m.\u001b[39;49m\u001b[43mfit\u001b[49m\u001b[43m(\u001b[49m\u001b[43mtrain_x\u001b[49m\u001b[43m,\u001b[49m\u001b[43m \u001b[49m\u001b[43mtrain_x\u001b[49m\u001b[43m,\u001b[49m\n\u001b[1;32m      2\u001b[0m \u001b[43m                         \u001b[49m\u001b[43mbatch_size\u001b[49m\u001b[43m \u001b[49m\u001b[38;5;241;43m=\u001b[39;49m\u001b[43m \u001b[49m\u001b[43mbatch_size\u001b[49m\u001b[43m,\u001b[49m\n\u001b[1;32m      3\u001b[0m \u001b[43m                         \u001b[49m\u001b[43mepochs\u001b[49m\u001b[43m \u001b[49m\u001b[38;5;241;43m=\u001b[39;49m\u001b[43m \u001b[49m\u001b[43mepochs\u001b[49m\u001b[43m,\u001b[49m\n\u001b[1;32m      4\u001b[0m \u001b[43m                         \u001b[49m\u001b[43mverbose\u001b[49m\u001b[43m \u001b[49m\u001b[38;5;241;43m=\u001b[39;49m\u001b[43m \u001b[49m\u001b[38;5;241;43m1\u001b[39;49m\u001b[43m,\u001b[49m\n\u001b[1;32m      5\u001b[0m \u001b[43m                         \u001b[49m\u001b[43mshuffle\u001b[49m\u001b[43m \u001b[49m\u001b[38;5;241;43m=\u001b[39;49m\u001b[43m \u001b[49m\u001b[38;5;28;43;01mTrue\u001b[39;49;00m\u001b[43m,\u001b[49m\n\u001b[1;32m      6\u001b[0m \u001b[43m                         \u001b[49m\u001b[43mvalidation_data\u001b[49m\u001b[43m \u001b[49m\u001b[38;5;241;43m=\u001b[39;49m\u001b[43m \u001b[49m\u001b[43m(\u001b[49m\u001b[43mvalidation_x\u001b[49m\u001b[43m,\u001b[49m\u001b[43m \u001b[49m\u001b[43mvalidation_x\u001b[49m\u001b[43m)\u001b[49m\u001b[43m)\u001b[49m\n",
      "File \u001b[0;32m~/work/SWA/DeepLearningAnomalyDetection/kn_env/lib/python3.8/site-packages/keras/utils/traceback_utils.py:67\u001b[0m, in \u001b[0;36mfilter_traceback.<locals>.error_handler\u001b[0;34m(*args, **kwargs)\u001b[0m\n\u001b[1;32m     65\u001b[0m \u001b[38;5;28;01mexcept\u001b[39;00m \u001b[38;5;167;01mException\u001b[39;00m \u001b[38;5;28;01mas\u001b[39;00m e:  \u001b[38;5;66;03m# pylint: disable=broad-except\u001b[39;00m\n\u001b[1;32m     66\u001b[0m   filtered_tb \u001b[38;5;241m=\u001b[39m _process_traceback_frames(e\u001b[38;5;241m.\u001b[39m__traceback__)\n\u001b[0;32m---> 67\u001b[0m   \u001b[38;5;28;01mraise\u001b[39;00m e\u001b[38;5;241m.\u001b[39mwith_traceback(filtered_tb) \u001b[38;5;28;01mfrom\u001b[39;00m \u001b[38;5;28mNone\u001b[39m\n\u001b[1;32m     68\u001b[0m \u001b[38;5;28;01mfinally\u001b[39;00m:\n\u001b[1;32m     69\u001b[0m   \u001b[38;5;28;01mdel\u001b[39;00m filtered_tb\n",
      "File \u001b[0;32m~/work/SWA/DeepLearningAnomalyDetection/kn_env/lib/python3.8/site-packages/tensorflow/python/framework/constant_op.py:102\u001b[0m, in \u001b[0;36mconvert_to_eager_tensor\u001b[0;34m(value, ctx, dtype)\u001b[0m\n\u001b[1;32m    100\u001b[0m     dtype \u001b[38;5;241m=\u001b[39m dtypes\u001b[38;5;241m.\u001b[39mas_dtype(dtype)\u001b[38;5;241m.\u001b[39mas_datatype_enum\n\u001b[1;32m    101\u001b[0m ctx\u001b[38;5;241m.\u001b[39mensure_initialized()\n\u001b[0;32m--> 102\u001b[0m \u001b[38;5;28;01mreturn\u001b[39;00m \u001b[43mops\u001b[49m\u001b[38;5;241;43m.\u001b[39;49m\u001b[43mEagerTensor\u001b[49m\u001b[43m(\u001b[49m\u001b[43mvalue\u001b[49m\u001b[43m,\u001b[49m\u001b[43m \u001b[49m\u001b[43mctx\u001b[49m\u001b[38;5;241;43m.\u001b[39;49m\u001b[43mdevice_name\u001b[49m\u001b[43m,\u001b[49m\u001b[43m \u001b[49m\u001b[43mdtype\u001b[49m\u001b[43m)\u001b[49m\n",
      "\u001b[0;31mValueError\u001b[0m: Failed to convert a NumPy array to a Tensor (Unsupported object type DataLoader)."
     ]
    }
   ],
   "source": [
    "history = autoencoder.fit(train_x, train_x,\n",
    "                         batch_size = batch_size,\n",
    "                         epochs = epochs,\n",
    "                         verbose = 1,\n",
    "                         shuffle = True,\n",
    "                         validation_data = (validation_x, validation_x))"
   ]
  },
  {
   "cell_type": "code",
   "execution_count": null,
   "id": "41db2564",
   "metadata": {},
   "outputs": [],
   "source": []
  },
  {
   "cell_type": "markdown",
   "id": "c0baf9e1",
   "metadata": {
    "papermill": {
     "duration": 0.052075,
     "end_time": "2022-05-07T14:57:04.998953",
     "exception": false,
     "start_time": "2022-05-07T14:57:04.946878",
     "status": "completed"
    },
    "tags": []
   },
   "source": [
    "# 5. Model selection\n",
    "After dozens of hours of testing different versions of ResNet, VGG, DenseNet, EfficientNet, and custom nn models with different configurations, the best results showed VGG-16 with batch normalization with centered RMSprop optimizer and BCELoss. Also, a little bit worse, but close result showed VGG-13."
   ]
  },
  {
   "cell_type": "code",
   "execution_count": 62,
   "id": "7ee1f32c",
   "metadata": {
    "execution": {
     "iopub.execute_input": "2022-05-07T14:57:05.103290Z",
     "iopub.status.busy": "2022-05-07T14:57:05.102556Z",
     "iopub.status.idle": "2022-05-07T14:57:59.534914Z",
     "shell.execute_reply": "2022-05-07T14:57:59.534065Z"
    },
    "papermill": {
     "duration": 54.486387,
     "end_time": "2022-05-07T14:57:59.537448",
     "exception": false,
     "start_time": "2022-05-07T14:57:05.051061",
     "status": "completed"
    },
    "tags": []
   },
   "outputs": [],
   "source": [
    "pt_model = torchvision.models.vgg16_bn(pretrained=True)"
   ]
  },
  {
   "cell_type": "markdown",
   "id": "19921a96",
   "metadata": {
    "papermill": {
     "duration": 0.053881,
     "end_time": "2022-05-07T14:57:59.644772",
     "exception": false,
     "start_time": "2022-05-07T14:57:59.590891",
     "status": "completed"
    },
    "tags": []
   },
   "source": [
    "Freeze all pretrained model parameters, so this part will not be trained, and add a linear classifier with 1 output (1 and 2 outputs showed almost equivalent results)."
   ]
  },
  {
   "cell_type": "code",
   "execution_count": 26,
   "id": "01b54472",
   "metadata": {
    "_kg_hide-input": false,
    "execution": {
     "iopub.execute_input": "2022-05-07T14:57:59.751192Z",
     "iopub.status.busy": "2022-05-07T14:57:59.750943Z",
     "iopub.status.idle": "2022-05-07T14:58:02.585532Z",
     "shell.execute_reply": "2022-05-07T14:58:02.584787Z"
    },
    "papermill": {
     "duration": 2.891505,
     "end_time": "2022-05-07T14:58:02.588543",
     "exception": false,
     "start_time": "2022-05-07T14:57:59.697038",
     "status": "completed"
    },
    "tags": []
   },
   "outputs": [
    {
     "data": {
      "text/plain": [
       "Sequential(\n",
       "  (0): VGG(\n",
       "    (features): Sequential(\n",
       "      (0): Conv2d(3, 64, kernel_size=(3, 3), stride=(1, 1), padding=(1, 1))\n",
       "      (1): BatchNorm2d(64, eps=1e-05, momentum=0.1, affine=True, track_running_stats=True)\n",
       "      (2): ReLU(inplace=True)\n",
       "      (3): Conv2d(64, 64, kernel_size=(3, 3), stride=(1, 1), padding=(1, 1))\n",
       "      (4): BatchNorm2d(64, eps=1e-05, momentum=0.1, affine=True, track_running_stats=True)\n",
       "      (5): ReLU(inplace=True)\n",
       "      (6): MaxPool2d(kernel_size=2, stride=2, padding=0, dilation=1, ceil_mode=False)\n",
       "      (7): Conv2d(64, 128, kernel_size=(3, 3), stride=(1, 1), padding=(1, 1))\n",
       "      (8): BatchNorm2d(128, eps=1e-05, momentum=0.1, affine=True, track_running_stats=True)\n",
       "      (9): ReLU(inplace=True)\n",
       "      (10): Conv2d(128, 128, kernel_size=(3, 3), stride=(1, 1), padding=(1, 1))\n",
       "      (11): BatchNorm2d(128, eps=1e-05, momentum=0.1, affine=True, track_running_stats=True)\n",
       "      (12): ReLU(inplace=True)\n",
       "      (13): MaxPool2d(kernel_size=2, stride=2, padding=0, dilation=1, ceil_mode=False)\n",
       "      (14): Conv2d(128, 256, kernel_size=(3, 3), stride=(1, 1), padding=(1, 1))\n",
       "      (15): BatchNorm2d(256, eps=1e-05, momentum=0.1, affine=True, track_running_stats=True)\n",
       "      (16): ReLU(inplace=True)\n",
       "      (17): Conv2d(256, 256, kernel_size=(3, 3), stride=(1, 1), padding=(1, 1))\n",
       "      (18): BatchNorm2d(256, eps=1e-05, momentum=0.1, affine=True, track_running_stats=True)\n",
       "      (19): ReLU(inplace=True)\n",
       "      (20): Conv2d(256, 256, kernel_size=(3, 3), stride=(1, 1), padding=(1, 1))\n",
       "      (21): BatchNorm2d(256, eps=1e-05, momentum=0.1, affine=True, track_running_stats=True)\n",
       "      (22): ReLU(inplace=True)\n",
       "      (23): MaxPool2d(kernel_size=2, stride=2, padding=0, dilation=1, ceil_mode=False)\n",
       "      (24): Conv2d(256, 512, kernel_size=(3, 3), stride=(1, 1), padding=(1, 1))\n",
       "      (25): BatchNorm2d(512, eps=1e-05, momentum=0.1, affine=True, track_running_stats=True)\n",
       "      (26): ReLU(inplace=True)\n",
       "      (27): Conv2d(512, 512, kernel_size=(3, 3), stride=(1, 1), padding=(1, 1))\n",
       "      (28): BatchNorm2d(512, eps=1e-05, momentum=0.1, affine=True, track_running_stats=True)\n",
       "      (29): ReLU(inplace=True)\n",
       "      (30): Conv2d(512, 512, kernel_size=(3, 3), stride=(1, 1), padding=(1, 1))\n",
       "      (31): BatchNorm2d(512, eps=1e-05, momentum=0.1, affine=True, track_running_stats=True)\n",
       "      (32): ReLU(inplace=True)\n",
       "      (33): MaxPool2d(kernel_size=2, stride=2, padding=0, dilation=1, ceil_mode=False)\n",
       "      (34): Conv2d(512, 512, kernel_size=(3, 3), stride=(1, 1), padding=(1, 1))\n",
       "      (35): BatchNorm2d(512, eps=1e-05, momentum=0.1, affine=True, track_running_stats=True)\n",
       "      (36): ReLU(inplace=True)\n",
       "      (37): Conv2d(512, 512, kernel_size=(3, 3), stride=(1, 1), padding=(1, 1))\n",
       "      (38): BatchNorm2d(512, eps=1e-05, momentum=0.1, affine=True, track_running_stats=True)\n",
       "      (39): ReLU(inplace=True)\n",
       "      (40): Conv2d(512, 512, kernel_size=(3, 3), stride=(1, 1), padding=(1, 1))\n",
       "      (41): BatchNorm2d(512, eps=1e-05, momentum=0.1, affine=True, track_running_stats=True)\n",
       "      (42): ReLU(inplace=True)\n",
       "      (43): MaxPool2d(kernel_size=2, stride=2, padding=0, dilation=1, ceil_mode=False)\n",
       "    )\n",
       "    (avgpool): AdaptiveAvgPool2d(output_size=(7, 7))\n",
       "    (classifier): Sequential(\n",
       "      (0): Linear(in_features=25088, out_features=4096, bias=True)\n",
       "      (1): ReLU(inplace=True)\n",
       "      (2): Dropout(p=0.5, inplace=False)\n",
       "      (3): Linear(in_features=4096, out_features=4096, bias=True)\n",
       "      (4): ReLU(inplace=True)\n",
       "      (5): Dropout(p=0.5, inplace=False)\n",
       "      (6): Linear(in_features=4096, out_features=1, bias=True)\n",
       "    )\n",
       "  )\n",
       "  (1): Sigmoid()\n",
       ")"
      ]
     },
     "execution_count": 26,
     "metadata": {},
     "output_type": "execute_result"
    }
   ],
   "source": [
    "for param in pt_model.parameters():\n",
    "    param.requires_grad = False\n",
    "\n",
    "pt_model.classifier[-1] = nn.Linear(in_features=pt_model.classifier[-1].in_features, out_features=1, bias=True)\n",
    "\n",
    "pretrained_model = nn.Sequential(pt_model, nn.Sigmoid())\n",
    "pretrained_model.to(device)"
   ]
  },
  {
   "cell_type": "code",
   "execution_count": 27,
   "id": "53422d84",
   "metadata": {
    "execution": {
     "iopub.execute_input": "2022-05-07T14:58:02.691881Z",
     "iopub.status.busy": "2022-05-07T14:58:02.691661Z",
     "iopub.status.idle": "2022-05-07T14:58:02.696027Z",
     "shell.execute_reply": "2022-05-07T14:58:02.695366Z"
    },
    "papermill": {
     "duration": 0.058021,
     "end_time": "2022-05-07T14:58:02.697762",
     "exception": false,
     "start_time": "2022-05-07T14:58:02.639741",
     "status": "completed"
    },
    "tags": []
   },
   "outputs": [],
   "source": [
    "opt = optim.RMSprop(pretrained_model.parameters(), centered=True)\n",
    "loss = nn.BCELoss()"
   ]
  },
  {
   "cell_type": "markdown",
   "id": "4151b830",
   "metadata": {
    "papermill": {
     "duration": 0.051305,
     "end_time": "2022-05-07T14:58:02.800791",
     "exception": false,
     "start_time": "2022-05-07T14:58:02.749486",
     "status": "completed"
    },
    "tags": []
   },
   "source": [
    "The next scheduler will reduce the learning rate by half if there is no improvement in the loss metric after 3 epochs."
   ]
  },
  {
   "cell_type": "code",
   "execution_count": 28,
   "id": "612ff9c6",
   "metadata": {
    "execution": {
     "iopub.execute_input": "2022-05-07T14:58:02.904675Z",
     "iopub.status.busy": "2022-05-07T14:58:02.904368Z",
     "iopub.status.idle": "2022-05-07T14:58:02.908136Z",
     "shell.execute_reply": "2022-05-07T14:58:02.907470Z"
    },
    "papermill": {
     "duration": 0.059111,
     "end_time": "2022-05-07T14:58:02.909930",
     "exception": false,
     "start_time": "2022-05-07T14:58:02.850819",
     "status": "completed"
    },
    "tags": []
   },
   "outputs": [],
   "source": [
    "scheduler = optim.lr_scheduler.ReduceLROnPlateau(opt, factor=0.5, patience=3)"
   ]
  },
  {
   "cell_type": "markdown",
   "id": "2050d623",
   "metadata": {
    "papermill": {
     "duration": 0.050864,
     "end_time": "2022-05-07T14:58:03.011339",
     "exception": false,
     "start_time": "2022-05-07T14:58:02.960475",
     "status": "completed"
    },
    "tags": []
   },
   "source": [
    "# 6. Model training\n",
    "The next function will train our model. It saves the best model state based on validation loss value. Also, it stores and shows metric and loss values after each epoch."
   ]
  },
  {
   "cell_type": "code",
   "execution_count": 29,
   "id": "db00027c",
   "metadata": {
    "execution": {
     "iopub.execute_input": "2022-05-07T14:58:03.117906Z",
     "iopub.status.busy": "2022-05-07T14:58:03.117475Z",
     "iopub.status.idle": "2022-05-07T14:58:03.131644Z",
     "shell.execute_reply": "2022-05-07T14:58:03.130976Z"
    },
    "papermill": {
     "duration": 0.070298,
     "end_time": "2022-05-07T14:58:03.133301",
     "exception": false,
     "start_time": "2022-05-07T14:58:03.063003",
     "status": "completed"
    },
    "tags": []
   },
   "outputs": [],
   "source": [
    "def fit(epochs, train_dl, valid_dl, model, opt, loss_func, metric, scheduler=None, tracker=None):\n",
    "    \n",
    "    val_loss_min = np.Inf\n",
    "    \n",
    "    for epoch in range(epochs):\n",
    "        \n",
    "        train_loss = 0.0\n",
    "        train_metric = 0.0\n",
    "        val_loss = 0.0\n",
    "        val_metric = 0.0\n",
    "        \n",
    "        model.train()\n",
    "        for xb, yb in train_dl:\n",
    "            xb = xb.to(device)\n",
    "            yb = yb.to(device)\n",
    "            \n",
    "            pred = model(xb)\n",
    "            loss = loss_func(pred, yb.unsqueeze(1).float())\n",
    "            loss.backward()\n",
    "            \n",
    "            opt.step()\n",
    "            opt.zero_grad()\n",
    "            \n",
    "            train_loss += loss.item()\n",
    "            train_metric += metric(np.round(pred.detach().cpu().numpy()), yb.cpu().numpy())\n",
    "        \n",
    "        avg_train_loss = train_loss / len(train_dl)\n",
    "        avg_train_metric = train_metric / len(train_dl)\n",
    "        \n",
    "        model.eval()\n",
    "        with torch.no_grad():\n",
    "            for xb, yb in valid_dl:\n",
    "                xb = xb.to(device)\n",
    "                yb = yb.to(device)\n",
    "                \n",
    "                pred = model(xb)\n",
    "                loss = loss_func(pred, yb.unsqueeze(1).float())\n",
    "                \n",
    "                val_loss += loss.item()\n",
    "                val_metric += metric(np.round(pred.detach().cpu().numpy()), yb.cpu().numpy())\n",
    "                \n",
    "            avg_val_loss = val_loss / len(valid_dl) \n",
    "            avg_val_metric = val_metric / len(valid_dl) \n",
    "            \n",
    "        if tracker:\n",
    "            tracker['train_loss'].append(avg_train_loss)\n",
    "            tracker['train_metric'].append(avg_train_metric)\n",
    "            tracker['validation_loss'].append(avg_val_loss)\n",
    "            tracker['validation_metric'].append(avg_val_metric)\n",
    "        \n",
    "        if scheduler:\n",
    "            scheduler.step(avg_val_loss)\n",
    "            \n",
    "        if avg_val_loss < val_loss_min:\n",
    "            print(f'Epoch: {epoch + 1} - Train loss: {avg_train_loss:.3} - Train metric: {avg_train_metric:.3}\\\n",
    "                - Val loss: {avg_val_loss:.3} - Val metric: {avg_val_metric:.3}. Best result!')\n",
    "            val_loss_min = avg_val_loss\n",
    "            torch.save(model.state_dict(), 'Pneumonia_model_weights.pt')\n",
    "        else:\n",
    "            print(f'Epoch: {epoch + 1} - Train loss: {avg_train_loss:.3} - Train metric: {avg_train_metric:.3}\\\n",
    "                - Val loss: {avg_val_loss:.3} - Val metric: {avg_val_metric:.3}.')"
   ]
  },
  {
   "cell_type": "markdown",
   "id": "1a603dcb",
   "metadata": {
    "papermill": {
     "duration": 0.051972,
     "end_time": "2022-05-07T14:58:03.238266",
     "exception": false,
     "start_time": "2022-05-07T14:58:03.186294",
     "status": "completed"
    },
    "tags": []
   },
   "source": [
    "**Note:** F1-score as a metric will not reflect reality if it is calculated separately on batches.\n",
    "\n",
    "Then, declare and initialize necessary variables."
   ]
  },
  {
   "cell_type": "code",
   "execution_count": 70,
   "id": "d53fd305",
   "metadata": {
    "execution": {
     "iopub.execute_input": "2022-05-07T14:58:03.344283Z",
     "iopub.status.busy": "2022-05-07T14:58:03.343652Z",
     "iopub.status.idle": "2022-05-07T14:58:03.347565Z",
     "shell.execute_reply": "2022-05-07T14:58:03.346866Z"
    },
    "papermill": {
     "duration": 0.058719,
     "end_time": "2022-05-07T14:58:03.349225",
     "exception": false,
     "start_time": "2022-05-07T14:58:03.290506",
     "status": "completed"
    },
    "tags": []
   },
   "outputs": [],
   "source": [
    "epochs = 40\n",
    "tracker = {'train_loss': [], 'train_metric': [], 'validation_loss': [], 'validation_metric': []}"
   ]
  },
  {
   "cell_type": "markdown",
   "id": "04f22905",
   "metadata": {
    "papermill": {
     "duration": 0.052019,
     "end_time": "2022-05-07T14:58:03.453572",
     "exception": false,
     "start_time": "2022-05-07T14:58:03.401553",
     "status": "completed"
    },
    "tags": []
   },
   "source": [
    "Finally, train our model during 50 epochs with mentioned above parameters."
   ]
  },
  {
   "cell_type": "code",
   "execution_count": null,
   "id": "0e381d8d",
   "metadata": {
    "execution": {
     "iopub.execute_input": "2022-05-07T14:58:03.560000Z",
     "iopub.status.busy": "2022-05-07T14:58:03.559428Z",
     "iopub.status.idle": "2022-05-07T16:46:07.842853Z",
     "shell.execute_reply": "2022-05-07T16:46:07.841925Z"
    },
    "papermill": {
     "duration": 6484.416192,
     "end_time": "2022-05-07T16:46:07.922591",
     "exception": false,
     "start_time": "2022-05-07T14:58:03.506399",
     "status": "completed"
    },
    "tags": []
   },
   "outputs": [],
   "source": [
    "fit(epochs, train_dl, valid_dl, pretrained_model, opt, loss, metrics.accuracy_score, scheduler, tracker)"
   ]
  },
  {
   "cell_type": "code",
   "execution_count": null,
   "id": "e6347a91",
   "metadata": {},
   "outputs": [],
   "source": [
    "#!ls \"../../data/chest_xray/chest_xray/train/NORMAL\""
   ]
  },
  {
   "cell_type": "markdown",
   "id": "3db2f273",
   "metadata": {
    "papermill": {
     "duration": 0.071178,
     "end_time": "2022-05-07T16:46:08.063877",
     "exception": false,
     "start_time": "2022-05-07T16:46:07.992699",
     "status": "completed"
    },
    "tags": []
   },
   "source": [
    "As we can see, the best model was on 47 epoch. Next, let's visualize losses and metrics over epochs during the training process."
   ]
  },
  {
   "cell_type": "code",
   "execution_count": null,
   "id": "f8d15b34",
   "metadata": {
    "execution": {
     "iopub.execute_input": "2022-05-07T16:46:08.204337Z",
     "iopub.status.busy": "2022-05-07T16:46:08.204052Z",
     "iopub.status.idle": "2022-05-07T16:46:08.634927Z",
     "shell.execute_reply": "2022-05-07T16:46:08.634179Z"
    },
    "papermill": {
     "duration": 0.503702,
     "end_time": "2022-05-07T16:46:08.637465",
     "exception": false,
     "start_time": "2022-05-07T16:46:08.133763",
     "status": "completed"
    },
    "tags": []
   },
   "outputs": [],
   "source": [
    "x = np.arange(1, epochs + 1)\n",
    "\n",
    "plt.figure(figsize=(16, 8))\n",
    "\n",
    "plt.subplot(1, 2, 1)\n",
    "plt.plot(x, tracker['train_loss'], label='Train loss')\n",
    "plt.plot(x, tracker['validation_loss'], label='Validation loss')\n",
    "plt.title('Loss over epochs', fontsize=16)\n",
    "plt.xlabel('Epochs', fontsize=14)\n",
    "plt.ylabel('Loss value', fontsize=14)\n",
    "plt.legend()\n",
    "\n",
    "plt.subplot(1, 2, 2)\n",
    "plt.plot(x, tracker['train_metric'], label='Train metric')\n",
    "plt.plot(x, tracker['validation_metric'], label='Validation metric')\n",
    "plt.title('Metric over epochs', fontsize=16)\n",
    "plt.xlabel('Epochs', fontsize=14)\n",
    "plt.ylabel('Metric value', fontsize=14)\n",
    "plt.legend()\n",
    "\n",
    "plt.show()"
   ]
  },
  {
   "cell_type": "markdown",
   "id": "99dc4a20",
   "metadata": {
    "papermill": {
     "duration": 0.070208,
     "end_time": "2022-05-07T16:46:08.777976",
     "exception": false,
     "start_time": "2022-05-07T16:46:08.707768",
     "status": "completed"
    },
    "tags": []
   },
   "source": [
    "Ok, let's look closer starting from third epoch."
   ]
  },
  {
   "cell_type": "code",
   "execution_count": null,
   "id": "866169c5",
   "metadata": {
    "execution": {
     "iopub.execute_input": "2022-05-07T16:46:08.924190Z",
     "iopub.status.busy": "2022-05-07T16:46:08.923936Z",
     "iopub.status.idle": "2022-05-07T16:46:09.345564Z",
     "shell.execute_reply": "2022-05-07T16:46:09.344877Z"
    },
    "papermill": {
     "duration": 0.498918,
     "end_time": "2022-05-07T16:46:09.348602",
     "exception": false,
     "start_time": "2022-05-07T16:46:08.849684",
     "status": "completed"
    },
    "tags": []
   },
   "outputs": [],
   "source": [
    "x = np.arange(3, epochs + 1)\n",
    "\n",
    "plt.figure(figsize=(16, 8))\n",
    "\n",
    "plt.subplot(1, 2, 1)\n",
    "plt.plot(x, tracker['train_loss'][2:], label='Train loss')\n",
    "plt.plot(x, tracker['validation_loss'][2:], label='Validation loss')\n",
    "plt.title('Loss over epochs', fontsize=16)\n",
    "plt.xlabel('Epochs', fontsize=14)\n",
    "plt.ylabel('Loss value', fontsize=14)\n",
    "plt.legend()\n",
    "\n",
    "plt.subplot(1, 2, 2)\n",
    "plt.plot(x, tracker['train_metric'][2:], label='Train metric')\n",
    "plt.plot(x, tracker['validation_metric'][2:], label='Validation metric')\n",
    "plt.title('Metric over epochs', fontsize=16)\n",
    "plt.xlabel('Epochs', fontsize=14)\n",
    "plt.ylabel('Metric value', fontsize=14)\n",
    "plt.legend()\n",
    "\n",
    "plt.show()"
   ]
  },
  {
   "cell_type": "markdown",
   "id": "edf79df3",
   "metadata": {
    "papermill": {
     "duration": 0.07401,
     "end_time": "2022-05-07T16:46:09.496965",
     "exception": false,
     "start_time": "2022-05-07T16:46:09.422955",
     "status": "completed"
    },
    "tags": []
   },
   "source": [
    "As we can see, the best result is on around the 47th epoch. And at the end, load our final model."
   ]
  },
  {
   "cell_type": "code",
   "execution_count": null,
   "id": "ec6285a9",
   "metadata": {
    "execution": {
     "iopub.execute_input": "2022-05-07T16:46:09.645567Z",
     "iopub.status.busy": "2022-05-07T16:46:09.644869Z",
     "iopub.status.idle": "2022-05-07T16:46:10.095772Z",
     "shell.execute_reply": "2022-05-07T16:46:10.095063Z"
    },
    "papermill": {
     "duration": 0.527835,
     "end_time": "2022-05-07T16:46:10.097928",
     "exception": false,
     "start_time": "2022-05-07T16:46:09.570093",
     "status": "completed"
    },
    "tags": []
   },
   "outputs": [],
   "source": [
    "pretrained_model.load_state_dict(torch.load('./Pneumonia_model_weights.pt'))"
   ]
  },
  {
   "cell_type": "markdown",
   "id": "7d86ad56",
   "metadata": {
    "papermill": {
     "duration": 0.074629,
     "end_time": "2022-05-07T16:46:10.248177",
     "exception": false,
     "start_time": "2022-05-07T16:46:10.173548",
     "status": "completed"
    },
    "tags": []
   },
   "source": [
    "# 7. Predicting on test data\n",
    "Now, let's test our model by predicting on the test dataset."
   ]
  },
  {
   "cell_type": "code",
   "execution_count": null,
   "id": "4ff3b5e2",
   "metadata": {
    "execution": {
     "iopub.execute_input": "2022-05-07T16:46:10.398779Z",
     "iopub.status.busy": "2022-05-07T16:46:10.398516Z",
     "iopub.status.idle": "2022-05-07T16:46:25.283972Z",
     "shell.execute_reply": "2022-05-07T16:46:25.282274Z"
    },
    "papermill": {
     "duration": 14.963498,
     "end_time": "2022-05-07T16:46:25.286112",
     "exception": false,
     "start_time": "2022-05-07T16:46:10.322614",
     "status": "completed"
    },
    "tags": []
   },
   "outputs": [],
   "source": [
    "predicted = []\n",
    "true = []\n",
    "\n",
    "for xb, yb in test_dl:\n",
    "    xb = xb.to(device)\n",
    "    predicted.append(pretrained_model(xb).detach().cpu().numpy())\n",
    "    true.append(yb.numpy())\n",
    "    \n",
    "predicted = list(itertools.chain(*list(itertools.chain(*predicted))))\n",
    "true = list(itertools.chain(*true))\n",
    "\n",
    "f1_score = metrics.f1_score(true, np.round(predicted))\n",
    "acc_score = metrics.accuracy_score(true, np.round(predicted))\n",
    "\n",
    "print(f'F1-score: {f1_score:.3}\\nAccuracy: {acc_score:.3}')"
   ]
  },
  {
   "cell_type": "markdown",
   "id": "549671ff",
   "metadata": {
    "papermill": {
     "duration": 0.079501,
     "end_time": "2022-05-07T16:46:25.445667",
     "exception": false,
     "start_time": "2022-05-07T16:46:25.366166",
     "status": "completed"
    },
    "tags": []
   },
   "source": [
    "As we can see, the accuracy of the model is 90.9%, and F1-score is 92.9, which is a pretty good result. Also, let's build a confusion matrix."
   ]
  },
  {
   "cell_type": "code",
   "execution_count": null,
   "id": "616bccac",
   "metadata": {
    "execution": {
     "iopub.execute_input": "2022-05-07T16:46:25.602662Z",
     "iopub.status.busy": "2022-05-07T16:46:25.602392Z",
     "iopub.status.idle": "2022-05-07T16:46:25.728955Z",
     "shell.execute_reply": "2022-05-07T16:46:25.728022Z"
    },
    "papermill": {
     "duration": 0.208052,
     "end_time": "2022-05-07T16:46:25.731993",
     "exception": false,
     "start_time": "2022-05-07T16:46:25.523941",
     "status": "completed"
    },
    "tags": []
   },
   "outputs": [],
   "source": [
    "conf_matrix = metrics.confusion_matrix(true, np.round(predicted))\n",
    "fig, ax = plot_confusion_matrix(conf_mat=conf_matrix, figsize=(6, 6), cmap=plt.cm.Blues)\n",
    "plt.xlabel('Predictions', fontsize=18)\n",
    "plt.ylabel('Actuals', fontsize=18)\n",
    "plt.xticks(range(2), ['Normal', 'Pneumonia'], fontsize=14)\n",
    "plt.yticks(range(2), ['Normal', 'Pneumonia'], fontsize=14)\n",
    "plt.show()"
   ]
  },
  {
   "cell_type": "markdown",
   "id": "468c6b30",
   "metadata": {
    "papermill": {
     "duration": 0.080504,
     "end_time": "2022-05-07T16:46:25.932561",
     "exception": false,
     "start_time": "2022-05-07T16:46:25.852057",
     "status": "completed"
    },
    "tags": []
   },
   "source": [
    "We can see that around 3/4 of all misclassified objects are false positives, which is quite good in our case. This means that if the model predicts wrong - most of the misclassified patients will have additional medical tests rather than be released and have more serious health issues later."
   ]
  },
  {
   "cell_type": "markdown",
   "id": "7ddc9da0",
   "metadata": {
    "papermill": {
     "duration": 0.075748,
     "end_time": "2022-05-07T16:46:26.086365",
     "exception": false,
     "start_time": "2022-05-07T16:46:26.010617",
     "status": "completed"
    },
    "tags": []
   },
   "source": [
    "## Thank you for your attention!\n",
    "Hope, it was interesting or useful for you. Please, upvote if you like it."
   ]
  },
  {
   "cell_type": "code",
   "execution_count": null,
   "id": "f125676f",
   "metadata": {},
   "outputs": [],
   "source": []
  }
 ],
 "metadata": {
  "kernelspec": {
   "display_name": "Python 3 (ipykernel)",
   "language": "python",
   "name": "python3"
  },
  "language_info": {
   "codemirror_mode": {
    "name": "ipython",
    "version": 3
   },
   "file_extension": ".py",
   "mimetype": "text/x-python",
   "name": "python",
   "nbconvert_exporter": "python",
   "pygments_lexer": "ipython3",
   "version": "3.8.10"
  },
  "papermill": {
   "default_parameters": {},
   "duration": 6578.802132,
   "end_time": "2022-05-07T16:46:27.595574",
   "environment_variables": {},
   "exception": null,
   "input_path": "__notebook__.ipynb",
   "output_path": "__notebook__.ipynb",
   "parameters": {},
   "start_time": "2022-05-07T14:56:48.793442",
   "version": "2.3.4"
  },
  "widgets": {
   "application/vnd.jupyter.widget-state+json": {
    "state": {
     "0ce84538bfea4af2b887b2cf172a29e7": {
      "model_module": "@jupyter-widgets/controls",
      "model_module_version": "1.5.0",
      "model_name": "DescriptionStyleModel",
      "state": {
       "_model_module": "@jupyter-widgets/controls",
       "_model_module_version": "1.5.0",
       "_model_name": "DescriptionStyleModel",
       "_view_count": null,
       "_view_module": "@jupyter-widgets/base",
       "_view_module_version": "1.2.0",
       "_view_name": "StyleView",
       "description_width": ""
      }
     },
     "1c39824d3b6b43cbb750e2cab9a3b1dd": {
      "model_module": "@jupyter-widgets/controls",
      "model_module_version": "1.5.0",
      "model_name": "HTMLModel",
      "state": {
       "_dom_classes": [],
       "_model_module": "@jupyter-widgets/controls",
       "_model_module_version": "1.5.0",
       "_model_name": "HTMLModel",
       "_view_count": null,
       "_view_module": "@jupyter-widgets/controls",
       "_view_module_version": "1.5.0",
       "_view_name": "HTMLView",
       "description": "",
       "description_tooltip": null,
       "layout": "IPY_MODEL_22b3a5a6fb75486795bfa43e5a04b68a",
       "placeholder": "​",
       "style": "IPY_MODEL_6e18f07b04e54f1298f897a5e62c356d",
       "value": "100%"
      }
     },
     "22b3a5a6fb75486795bfa43e5a04b68a": {
      "model_module": "@jupyter-widgets/base",
      "model_module_version": "1.2.0",
      "model_name": "LayoutModel",
      "state": {
       "_model_module": "@jupyter-widgets/base",
       "_model_module_version": "1.2.0",
       "_model_name": "LayoutModel",
       "_view_count": null,
       "_view_module": "@jupyter-widgets/base",
       "_view_module_version": "1.2.0",
       "_view_name": "LayoutView",
       "align_content": null,
       "align_items": null,
       "align_self": null,
       "border": null,
       "bottom": null,
       "display": null,
       "flex": null,
       "flex_flow": null,
       "grid_area": null,
       "grid_auto_columns": null,
       "grid_auto_flow": null,
       "grid_auto_rows": null,
       "grid_column": null,
       "grid_gap": null,
       "grid_row": null,
       "grid_template_areas": null,
       "grid_template_columns": null,
       "grid_template_rows": null,
       "height": null,
       "justify_content": null,
       "justify_items": null,
       "left": null,
       "margin": null,
       "max_height": null,
       "max_width": null,
       "min_height": null,
       "min_width": null,
       "object_fit": null,
       "object_position": null,
       "order": null,
       "overflow": null,
       "overflow_x": null,
       "overflow_y": null,
       "padding": null,
       "right": null,
       "top": null,
       "visibility": null,
       "width": null
      }
     },
     "2aea78a36f4d43d086ad2f02383ba6ed": {
      "model_module": "@jupyter-widgets/controls",
      "model_module_version": "1.5.0",
      "model_name": "FloatProgressModel",
      "state": {
       "_dom_classes": [],
       "_model_module": "@jupyter-widgets/controls",
       "_model_module_version": "1.5.0",
       "_model_name": "FloatProgressModel",
       "_view_count": null,
       "_view_module": "@jupyter-widgets/controls",
       "_view_module_version": "1.5.0",
       "_view_name": "ProgressView",
       "bar_style": "success",
       "description": "",
       "description_tooltip": null,
       "layout": "IPY_MODEL_a597d27c494648ef914f252b867273a3",
       "max": 553507836,
       "min": 0,
       "orientation": "horizontal",
       "style": "IPY_MODEL_ac365e9c5a83445b81d7358aad7e11e5",
       "value": 553507836
      }
     },
     "6e18f07b04e54f1298f897a5e62c356d": {
      "model_module": "@jupyter-widgets/controls",
      "model_module_version": "1.5.0",
      "model_name": "DescriptionStyleModel",
      "state": {
       "_model_module": "@jupyter-widgets/controls",
       "_model_module_version": "1.5.0",
       "_model_name": "DescriptionStyleModel",
       "_view_count": null,
       "_view_module": "@jupyter-widgets/base",
       "_view_module_version": "1.2.0",
       "_view_name": "StyleView",
       "description_width": ""
      }
     },
     "a597d27c494648ef914f252b867273a3": {
      "model_module": "@jupyter-widgets/base",
      "model_module_version": "1.2.0",
      "model_name": "LayoutModel",
      "state": {
       "_model_module": "@jupyter-widgets/base",
       "_model_module_version": "1.2.0",
       "_model_name": "LayoutModel",
       "_view_count": null,
       "_view_module": "@jupyter-widgets/base",
       "_view_module_version": "1.2.0",
       "_view_name": "LayoutView",
       "align_content": null,
       "align_items": null,
       "align_self": null,
       "border": null,
       "bottom": null,
       "display": null,
       "flex": null,
       "flex_flow": null,
       "grid_area": null,
       "grid_auto_columns": null,
       "grid_auto_flow": null,
       "grid_auto_rows": null,
       "grid_column": null,
       "grid_gap": null,
       "grid_row": null,
       "grid_template_areas": null,
       "grid_template_columns": null,
       "grid_template_rows": null,
       "height": null,
       "justify_content": null,
       "justify_items": null,
       "left": null,
       "margin": null,
       "max_height": null,
       "max_width": null,
       "min_height": null,
       "min_width": null,
       "object_fit": null,
       "object_position": null,
       "order": null,
       "overflow": null,
       "overflow_x": null,
       "overflow_y": null,
       "padding": null,
       "right": null,
       "top": null,
       "visibility": null,
       "width": null
      }
     },
     "ac365e9c5a83445b81d7358aad7e11e5": {
      "model_module": "@jupyter-widgets/controls",
      "model_module_version": "1.5.0",
      "model_name": "ProgressStyleModel",
      "state": {
       "_model_module": "@jupyter-widgets/controls",
       "_model_module_version": "1.5.0",
       "_model_name": "ProgressStyleModel",
       "_view_count": null,
       "_view_module": "@jupyter-widgets/base",
       "_view_module_version": "1.2.0",
       "_view_name": "StyleView",
       "bar_color": null,
       "description_width": ""
      }
     },
     "c790b6f3f8d240d9b2d25ee22151dd87": {
      "model_module": "@jupyter-widgets/controls",
      "model_module_version": "1.5.0",
      "model_name": "HTMLModel",
      "state": {
       "_dom_classes": [],
       "_model_module": "@jupyter-widgets/controls",
       "_model_module_version": "1.5.0",
       "_model_name": "HTMLModel",
       "_view_count": null,
       "_view_module": "@jupyter-widgets/controls",
       "_view_module_version": "1.5.0",
       "_view_name": "HTMLView",
       "description": "",
       "description_tooltip": null,
       "layout": "IPY_MODEL_d0466a43b929430bad49b9dccc1d736e",
       "placeholder": "​",
       "style": "IPY_MODEL_0ce84538bfea4af2b887b2cf172a29e7",
       "value": " 528M/528M [00:51&lt;00:00, 11.7MB/s]"
      }
     },
     "d0466a43b929430bad49b9dccc1d736e": {
      "model_module": "@jupyter-widgets/base",
      "model_module_version": "1.2.0",
      "model_name": "LayoutModel",
      "state": {
       "_model_module": "@jupyter-widgets/base",
       "_model_module_version": "1.2.0",
       "_model_name": "LayoutModel",
       "_view_count": null,
       "_view_module": "@jupyter-widgets/base",
       "_view_module_version": "1.2.0",
       "_view_name": "LayoutView",
       "align_content": null,
       "align_items": null,
       "align_self": null,
       "border": null,
       "bottom": null,
       "display": null,
       "flex": null,
       "flex_flow": null,
       "grid_area": null,
       "grid_auto_columns": null,
       "grid_auto_flow": null,
       "grid_auto_rows": null,
       "grid_column": null,
       "grid_gap": null,
       "grid_row": null,
       "grid_template_areas": null,
       "grid_template_columns": null,
       "grid_template_rows": null,
       "height": null,
       "justify_content": null,
       "justify_items": null,
       "left": null,
       "margin": null,
       "max_height": null,
       "max_width": null,
       "min_height": null,
       "min_width": null,
       "object_fit": null,
       "object_position": null,
       "order": null,
       "overflow": null,
       "overflow_x": null,
       "overflow_y": null,
       "padding": null,
       "right": null,
       "top": null,
       "visibility": null,
       "width": null
      }
     },
     "e4fc34b7f2f64a398999c960cae2f1a5": {
      "model_module": "@jupyter-widgets/controls",
      "model_module_version": "1.5.0",
      "model_name": "HBoxModel",
      "state": {
       "_dom_classes": [],
       "_model_module": "@jupyter-widgets/controls",
       "_model_module_version": "1.5.0",
       "_model_name": "HBoxModel",
       "_view_count": null,
       "_view_module": "@jupyter-widgets/controls",
       "_view_module_version": "1.5.0",
       "_view_name": "HBoxView",
       "box_style": "",
       "children": [
        "IPY_MODEL_1c39824d3b6b43cbb750e2cab9a3b1dd",
        "IPY_MODEL_2aea78a36f4d43d086ad2f02383ba6ed",
        "IPY_MODEL_c790b6f3f8d240d9b2d25ee22151dd87"
       ],
       "layout": "IPY_MODEL_ed3514b9352f448ca6c2949d8dcf24ff"
      }
     },
     "ed3514b9352f448ca6c2949d8dcf24ff": {
      "model_module": "@jupyter-widgets/base",
      "model_module_version": "1.2.0",
      "model_name": "LayoutModel",
      "state": {
       "_model_module": "@jupyter-widgets/base",
       "_model_module_version": "1.2.0",
       "_model_name": "LayoutModel",
       "_view_count": null,
       "_view_module": "@jupyter-widgets/base",
       "_view_module_version": "1.2.0",
       "_view_name": "LayoutView",
       "align_content": null,
       "align_items": null,
       "align_self": null,
       "border": null,
       "bottom": null,
       "display": null,
       "flex": null,
       "flex_flow": null,
       "grid_area": null,
       "grid_auto_columns": null,
       "grid_auto_flow": null,
       "grid_auto_rows": null,
       "grid_column": null,
       "grid_gap": null,
       "grid_row": null,
       "grid_template_areas": null,
       "grid_template_columns": null,
       "grid_template_rows": null,
       "height": null,
       "justify_content": null,
       "justify_items": null,
       "left": null,
       "margin": null,
       "max_height": null,
       "max_width": null,
       "min_height": null,
       "min_width": null,
       "object_fit": null,
       "object_position": null,
       "order": null,
       "overflow": null,
       "overflow_x": null,
       "overflow_y": null,
       "padding": null,
       "right": null,
       "top": null,
       "visibility": null,
       "width": null
      }
     }
    },
    "version_major": 2,
    "version_minor": 0
   }
  }
 },
 "nbformat": 4,
 "nbformat_minor": 5
}
