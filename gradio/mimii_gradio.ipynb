{
 "cells": [
  {
   "cell_type": "code",
   "execution_count": 13,
   "id": "342bdf7b",
   "metadata": {},
   "outputs": [
    {
     "name": "stderr",
     "output_type": "stream",
     "text": [
      "2022-08-28 18:24:43.618052: W tensorflow/stream_executor/platform/default/dso_loader.cc:64] Could not load dynamic library 'libcudart.so.11.0'; dlerror: libcudart.so.11.0: cannot open shared object file: No such file or directory\n",
      "2022-08-28 18:24:43.618077: I tensorflow/stream_executor/cuda/cudart_stub.cc:29] Ignore above cudart dlerror if you do not have a GPU set up on your machine.\n"
     ]
    }
   ],
   "source": [
    "from tensorflow.keras.preprocessing.image import load_img, img_to_array\n",
    "import tensorflow as tf\n",
    "import numpy as np\n",
    "from tensorflow import keras\n",
    "from tensorflow.keras.models import load_model"
   ]
  },
  {
   "cell_type": "code",
   "execution_count": 51,
   "id": "35644123",
   "metadata": {},
   "outputs": [],
   "source": [
    "import librosa\n",
    "def load_sound_file(path, mono=False, channel=0):\n",
    "    #Load an audio file as a floating point time series\n",
    "    signal, sr = librosa.load(path, sr=None, mono=mono)\n",
    "    # check if signal is mono or stereo\n",
    "    if signal.ndim < 2:\n",
    "        sound_file = signal, sr\n",
    "    else:\n",
    "        sound_file = signal[channel, :], sr\n",
    "\n",
    "    return sound_file"
   ]
  },
  {
   "cell_type": "code",
   "execution_count": 1,
   "id": "38b688f0",
   "metadata": {},
   "outputs": [],
   "source": [
    "import gradio as gr"
   ]
  },
  {
   "cell_type": "code",
   "execution_count": 47,
   "id": "3f1059da",
   "metadata": {},
   "outputs": [],
   "source": [
    "def classify_image(inp):\n",
    "    #inp = inp.resize((217, 334))\n",
    "    img_array = img_to_array(inp).astype('float32')\n",
    "    img_array = np.expand_dims(img_array, axis=0)\n",
    "    img_array = img_array/255.0\n",
    "    model = load_model('/home/iotg/work/SWA/SWA/models/cnn_asd_classifier.h5')\n",
    "    prediction = model.predict(img_array)\n",
    "    prediction = (np.round(prediction))\n",
    "    if prediction == 1:\n",
    "        return prediction, \"NORMAL\"\n",
    "    #prediction = np.squeeze(prediction, axis=0)\n",
    "    else:\n",
    "        return prediction, \"FAULTY\""
   ]
  },
  {
   "cell_type": "code",
   "execution_count": 87,
   "id": "e9ef4233",
   "metadata": {},
   "outputs": [],
   "source": [
    "def classify_sound(inp):\n",
    "    #inp = inp.resize((217, 334))\n",
    "    n_fft = 2048\n",
    "    hop_length = 512\n",
    "    n_mels = 64\n",
    "    signal, sr = load_sound_file(\"/home/iotg/work/SWA/SWA/data/mimii-anomaly-detection/6dB/fan/id_00/normal/00000244.wav\")\n",
    "    mel_spectrogram = librosa.feature.melspectrogram(\n",
    "        y=signal, sr=sr, n_fft=n_fft, hop_length=hop_length, n_mels=n_mels\n",
    "    )\n",
    "    log_mel_spectrogram = librosa.power_to_db(mel_spectrogram, ref=np.max)\n",
    "    prediction = 1\n",
    "    return log_mel_spectrogram.shape\n",
    "    # if prediction == 1:\n",
    "    #     return prediction, \"NORMAL\"\n",
    "    # else:\n",
    "    #     return prediction, \"FAULTY\""
   ]
  },
  {
   "cell_type": "code",
   "execution_count": 89,
   "id": "141eed85",
   "metadata": {},
   "outputs": [
    {
     "name": "stdout",
     "output_type": "stream",
     "text": [
      "Closing server running on port: 7861\n",
      "Closing server running on port: 7861\n",
      "Closing server running on port: 7861\n",
      "Closing server running on port: 7861\n",
      "Closing server running on port: 7861\n",
      "Closing server running on port: 7861\n"
     ]
    }
   ],
   "source": [
    "gr.close_all()"
   ]
  },
  {
   "cell_type": "code",
   "execution_count": 90,
   "id": "cbb5deea",
   "metadata": {},
   "outputs": [
    {
     "name": "stdout",
     "output_type": "stream",
     "text": [
      "Running on local URL:  http://127.0.0.1:7861/\n"
     ]
    },
    {
     "ename": "KeyboardInterrupt",
     "evalue": "",
     "output_type": "error",
     "traceback": [
      "\u001b[0;31m---------------------------------------------------------------------------\u001b[0m",
      "\u001b[0;31mKeyboardInterrupt\u001b[0m                         Traceback (most recent call last)",
      "\u001b[1;32m/home/iotg/work/SWA/SWA/gradio/mimii_gradio.ipynb Cell 7\u001b[0m in \u001b[0;36m<cell line: 1>\u001b[0;34m()\u001b[0m\n\u001b[0;32m----> <a href='vscode-notebook-cell://ssh-remote%2B10.91.221.57/home/iotg/work/SWA/SWA/gradio/mimii_gradio.ipynb#W6sdnNjb2RlLXJlbW90ZQ%3D%3D?line=0'>1</a>\u001b[0m gr\u001b[39m.\u001b[39;49mInterface(fn\u001b[39m=\u001b[39;49mclassify_sound, \n\u001b[1;32m      <a href='vscode-notebook-cell://ssh-remote%2B10.91.221.57/home/iotg/work/SWA/SWA/gradio/mimii_gradio.ipynb#W6sdnNjb2RlLXJlbW90ZQ%3D%3D?line=1'>2</a>\u001b[0m              inputs\u001b[39m=\u001b[39;49mgr\u001b[39m.\u001b[39;49mAudio(),\n\u001b[1;32m      <a href='vscode-notebook-cell://ssh-remote%2B10.91.221.57/home/iotg/work/SWA/SWA/gradio/mimii_gradio.ipynb#W6sdnNjb2RlLXJlbW90ZQ%3D%3D?line=2'>3</a>\u001b[0m              outputs\u001b[39m=\u001b[39;49m\u001b[39m\"\u001b[39;49m\u001b[39mtext\u001b[39;49m\u001b[39m\"\u001b[39;49m\n\u001b[1;32m      <a href='vscode-notebook-cell://ssh-remote%2B10.91.221.57/home/iotg/work/SWA/SWA/gradio/mimii_gradio.ipynb#W6sdnNjb2RlLXJlbW90ZQ%3D%3D?line=3'>4</a>\u001b[0m              \u001b[39m#examples=[\"/home/iotg/work/SWA/SWA/data/chest_xray/val/NORMAL/NORMAL2-IM-1427-0001.jpeg\"])\u001b[39;49;00m\n\u001b[1;32m      <a href='vscode-notebook-cell://ssh-remote%2B10.91.221.57/home/iotg/work/SWA/SWA/gradio/mimii_gradio.ipynb#W6sdnNjb2RlLXJlbW90ZQ%3D%3D?line=4'>5</a>\u001b[0m              )\u001b[39m.\u001b[39;49mlaunch(server_port\u001b[39m=\u001b[39;49m\u001b[39m7861\u001b[39;49m , share\u001b[39m=\u001b[39;49m\u001b[39mTrue\u001b[39;49;00m, debug\u001b[39m=\u001b[39;49m\u001b[39mTrue\u001b[39;49;00m)\n",
      "File \u001b[0;32m~/work/SWA/SWA/kn_venv/lib/python3.8/site-packages/gradio/blocks.py:895\u001b[0m, in \u001b[0;36mBlocks.launch\u001b[0;34m(self, inline, inbrowser, share, debug, enable_queue, max_threads, auth, auth_message, prevent_thread_lock, show_error, server_name, server_port, show_tips, height, width, encrypt, favicon_path, ssl_keyfile, ssl_certfile, ssl_keyfile_password, quiet, _frontend)\u001b[0m\n\u001b[1;32m    893\u001b[0m \u001b[39mtry\u001b[39;00m:\n\u001b[1;32m    894\u001b[0m     \u001b[39mif\u001b[39;00m \u001b[39mself\u001b[39m\u001b[39m.\u001b[39mshare_url \u001b[39mis\u001b[39;00m \u001b[39mNone\u001b[39;00m:\n\u001b[0;32m--> 895\u001b[0m         share_url \u001b[39m=\u001b[39m networking\u001b[39m.\u001b[39;49msetup_tunnel(\u001b[39mself\u001b[39;49m\u001b[39m.\u001b[39;49mserver_port, \u001b[39mNone\u001b[39;49;00m)\n\u001b[1;32m    896\u001b[0m         \u001b[39mself\u001b[39m\u001b[39m.\u001b[39mshare_url \u001b[39m=\u001b[39m share_url\n\u001b[1;32m    897\u001b[0m     \u001b[39mprint\u001b[39m(strings\u001b[39m.\u001b[39men[\u001b[39m\"\u001b[39m\u001b[39mSHARE_LINK_DISPLAY\u001b[39m\u001b[39m\"\u001b[39m]\u001b[39m.\u001b[39mformat(\u001b[39mself\u001b[39m\u001b[39m.\u001b[39mshare_url))\n",
      "File \u001b[0;32m~/work/SWA/SWA/kn_venv/lib/python3.8/site-packages/gradio/networking.py:176\u001b[0m, in \u001b[0;36msetup_tunnel\u001b[0;34m(local_server_port, endpoint)\u001b[0m\n\u001b[1;32m    174\u001b[0m \u001b[39mtry\u001b[39;00m:\n\u001b[1;32m    175\u001b[0m     payload \u001b[39m=\u001b[39m response\u001b[39m.\u001b[39mjson()[\u001b[39m0\u001b[39m]\n\u001b[0;32m--> 176\u001b[0m     \u001b[39mreturn\u001b[39;00m create_tunnel(payload, LOCALHOST_NAME, local_server_port)\n\u001b[1;32m    177\u001b[0m \u001b[39mexcept\u001b[39;00m \u001b[39mException\u001b[39;00m \u001b[39mas\u001b[39;00m e:\n\u001b[1;32m    178\u001b[0m     \u001b[39mraise\u001b[39;00m \u001b[39mRuntimeError\u001b[39;00m(\u001b[39mstr\u001b[39m(e))\n",
      "File \u001b[0;32m~/work/SWA/SWA/kn_venv/lib/python3.8/site-packages/gradio/tunneling.py:74\u001b[0m, in \u001b[0;36mcreate_tunnel\u001b[0;34m(payload, local_server, local_server_port)\u001b[0m\n\u001b[1;32m     72\u001b[0m     \u001b[39mwith\u001b[39;00m warnings\u001b[39m.\u001b[39mcatch_warnings():\n\u001b[1;32m     73\u001b[0m         warnings\u001b[39m.\u001b[39msimplefilter(\u001b[39m\"\u001b[39m\u001b[39mignore\u001b[39m\u001b[39m\"\u001b[39m)\n\u001b[0;32m---> 74\u001b[0m         client\u001b[39m.\u001b[39;49mconnect(\n\u001b[1;32m     75\u001b[0m             hostname\u001b[39m=\u001b[39;49mpayload[\u001b[39m\"\u001b[39;49m\u001b[39mhost\u001b[39;49m\u001b[39m\"\u001b[39;49m],\n\u001b[1;32m     76\u001b[0m             port\u001b[39m=\u001b[39;49m\u001b[39mint\u001b[39;49m(payload[\u001b[39m\"\u001b[39;49m\u001b[39mport\u001b[39;49m\u001b[39m\"\u001b[39;49m]),\n\u001b[1;32m     77\u001b[0m             username\u001b[39m=\u001b[39;49mpayload[\u001b[39m\"\u001b[39;49m\u001b[39muser\u001b[39;49m\u001b[39m\"\u001b[39;49m],\n\u001b[1;32m     78\u001b[0m             pkey\u001b[39m=\u001b[39;49mparamiko\u001b[39m.\u001b[39;49mRSAKey\u001b[39m.\u001b[39;49mfrom_private_key(StringIO(payload[\u001b[39m\"\u001b[39;49m\u001b[39mkey\u001b[39;49m\u001b[39m\"\u001b[39;49m])),\n\u001b[1;32m     79\u001b[0m         )\n\u001b[1;32m     80\u001b[0m \u001b[39mexcept\u001b[39;00m \u001b[39mException\u001b[39;00m \u001b[39mas\u001b[39;00m e:\n\u001b[1;32m     81\u001b[0m     \u001b[39mprint\u001b[39m(\u001b[39mf\u001b[39m\u001b[39m'\u001b[39m\u001b[39m*** Failed to connect to \u001b[39m\u001b[39m{\u001b[39;00mpayload[\u001b[39m\"\u001b[39m\u001b[39mhost\u001b[39m\u001b[39m\"\u001b[39m]\u001b[39m}\u001b[39;00m\u001b[39m:\u001b[39m\u001b[39m{\u001b[39;00mpayload[\u001b[39m\"\u001b[39m\u001b[39mport\u001b[39m\u001b[39m\"\u001b[39m]\u001b[39m}\u001b[39;00m\u001b[39m: \u001b[39m\u001b[39m{\u001b[39;00me\u001b[39m}\u001b[39;00m\u001b[39m'\u001b[39m)\n",
      "File \u001b[0;32m~/work/SWA/SWA/kn_venv/lib/python3.8/site-packages/paramiko/client.py:349\u001b[0m, in \u001b[0;36mSSHClient.connect\u001b[0;34m(self, hostname, port, username, password, pkey, key_filename, timeout, allow_agent, look_for_keys, compress, sock, gss_auth, gss_kex, gss_deleg_creds, gss_host, banner_timeout, auth_timeout, gss_trust_dns, passphrase, disabled_algorithms)\u001b[0m\n\u001b[1;32m    347\u001b[0m     \u001b[39mexcept\u001b[39;00m:\n\u001b[1;32m    348\u001b[0m         \u001b[39mpass\u001b[39;00m\n\u001b[0;32m--> 349\u001b[0m retry_on_signal(\u001b[39mlambda\u001b[39;49;00m: sock\u001b[39m.\u001b[39;49mconnect(addr))\n\u001b[1;32m    350\u001b[0m \u001b[39m# Break out of the loop on success\u001b[39;00m\n\u001b[1;32m    351\u001b[0m \u001b[39mbreak\u001b[39;00m\n",
      "File \u001b[0;32m~/work/SWA/SWA/kn_venv/lib/python3.8/site-packages/paramiko/util.py:279\u001b[0m, in \u001b[0;36mretry_on_signal\u001b[0;34m(function)\u001b[0m\n\u001b[1;32m    277\u001b[0m \u001b[39mwhile\u001b[39;00m \u001b[39mTrue\u001b[39;00m:\n\u001b[1;32m    278\u001b[0m     \u001b[39mtry\u001b[39;00m:\n\u001b[0;32m--> 279\u001b[0m         \u001b[39mreturn\u001b[39;00m function()\n\u001b[1;32m    280\u001b[0m     \u001b[39mexcept\u001b[39;00m \u001b[39mEnvironmentError\u001b[39;00m \u001b[39mas\u001b[39;00m e:\n\u001b[1;32m    281\u001b[0m         \u001b[39mif\u001b[39;00m e\u001b[39m.\u001b[39merrno \u001b[39m!=\u001b[39m errno\u001b[39m.\u001b[39mEINTR:\n",
      "File \u001b[0;32m~/work/SWA/SWA/kn_venv/lib/python3.8/site-packages/paramiko/client.py:349\u001b[0m, in \u001b[0;36mSSHClient.connect.<locals>.<lambda>\u001b[0;34m()\u001b[0m\n\u001b[1;32m    347\u001b[0m     \u001b[39mexcept\u001b[39;00m:\n\u001b[1;32m    348\u001b[0m         \u001b[39mpass\u001b[39;00m\n\u001b[0;32m--> 349\u001b[0m retry_on_signal(\u001b[39mlambda\u001b[39;00m: sock\u001b[39m.\u001b[39;49mconnect(addr))\n\u001b[1;32m    350\u001b[0m \u001b[39m# Break out of the loop on success\u001b[39;00m\n\u001b[1;32m    351\u001b[0m \u001b[39mbreak\u001b[39;00m\n",
      "\u001b[0;31mKeyboardInterrupt\u001b[0m: "
     ]
    }
   ],
   "source": [
    "gr.Interface(fn=classify_sound, \n",
    "             inputs=gr.Audio(),\n",
    "             outputs=\"text\"\n",
    "             #examples=[\"/home/iotg/work/SWA/SWA/data/chest_xray/val/NORMAL/NORMAL2-IM-1427-0001.jpeg\"])\n",
    "             ).launch(server_port=7861 , share=True, debug=True)"
   ]
  },
  {
   "cell_type": "code",
   "execution_count": 46,
   "id": "9d506f98",
   "metadata": {},
   "outputs": [
    {
     "name": "stdout",
     "output_type": "stream",
     "text": [
      "Running on local URL:  http://127.0.0.1:7861/\n",
      "1/1 [==============================] - 0s 72ms/step\n",
      "1/1 [==============================] - 0s 61ms/step\n",
      "1/1 [==============================] - 0s 65ms/step\n",
      "1/1 [==============================] - 0s 61ms/step\n",
      "1/1 [==============================] - 0s 61ms/step\n",
      "1/1 [==============================] - 0s 62ms/step\n"
     ]
    },
    {
     "ename": "KeyboardInterrupt",
     "evalue": "",
     "output_type": "error",
     "traceback": [
      "\u001b[0;31m---------------------------------------------------------------------------\u001b[0m",
      "\u001b[0;31mKeyboardInterrupt\u001b[0m                         Traceback (most recent call last)",
      "\u001b[1;32m/home/iotg/work/SWA/SWA/gradio/mimii_gradio.ipynb Cell 5\u001b[0m in \u001b[0;36m<cell line: 1>\u001b[0;34m()\u001b[0m\n\u001b[0;32m----> <a href='vscode-notebook-cell://ssh-remote%2B10.91.221.57/home/iotg/work/SWA/SWA/gradio/mimii_gradio.ipynb#W4sdnNjb2RlLXJlbW90ZQ%3D%3D?line=0'>1</a>\u001b[0m gr\u001b[39m.\u001b[39;49mInterface(fn\u001b[39m=\u001b[39;49mclassify_image, \n\u001b[1;32m      <a href='vscode-notebook-cell://ssh-remote%2B10.91.221.57/home/iotg/work/SWA/SWA/gradio/mimii_gradio.ipynb#W4sdnNjb2RlLXJlbW90ZQ%3D%3D?line=1'>2</a>\u001b[0m              inputs\u001b[39m=\u001b[39;49mgr\u001b[39m.\u001b[39;49mImage(\u001b[39mtype\u001b[39;49m\u001b[39m=\u001b[39;49m\u001b[39m\"\u001b[39;49m\u001b[39mpil\u001b[39;49m\u001b[39m\"\u001b[39;49m),\n\u001b[1;32m      <a href='vscode-notebook-cell://ssh-remote%2B10.91.221.57/home/iotg/work/SWA/SWA/gradio/mimii_gradio.ipynb#W4sdnNjb2RlLXJlbW90ZQ%3D%3D?line=2'>3</a>\u001b[0m              outputs\u001b[39m=\u001b[39;49m\u001b[39m\"\u001b[39;49m\u001b[39mtext\u001b[39;49m\u001b[39m\"\u001b[39;49m\n\u001b[1;32m      <a href='vscode-notebook-cell://ssh-remote%2B10.91.221.57/home/iotg/work/SWA/SWA/gradio/mimii_gradio.ipynb#W4sdnNjb2RlLXJlbW90ZQ%3D%3D?line=3'>4</a>\u001b[0m              \u001b[39m#examples=[\"/home/iotg/work/SWA/SWA/data/chest_xray/val/NORMAL/NORMAL2-IM-1427-0001.jpeg\"])\u001b[39;49;00m\n\u001b[1;32m      <a href='vscode-notebook-cell://ssh-remote%2B10.91.221.57/home/iotg/work/SWA/SWA/gradio/mimii_gradio.ipynb#W4sdnNjb2RlLXJlbW90ZQ%3D%3D?line=4'>5</a>\u001b[0m              )\u001b[39m.\u001b[39;49mlaunch(server_port\u001b[39m=\u001b[39;49m\u001b[39m7861\u001b[39;49m , share\u001b[39m=\u001b[39;49m\u001b[39mTrue\u001b[39;49;00m, debug\u001b[39m=\u001b[39;49m\u001b[39mTrue\u001b[39;49;00m)\n",
      "File \u001b[0;32m~/work/SWA/SWA/kn_venv/lib/python3.8/site-packages/gradio/blocks.py:895\u001b[0m, in \u001b[0;36mBlocks.launch\u001b[0;34m(self, inline, inbrowser, share, debug, enable_queue, max_threads, auth, auth_message, prevent_thread_lock, show_error, server_name, server_port, show_tips, height, width, encrypt, favicon_path, ssl_keyfile, ssl_certfile, ssl_keyfile_password, quiet, _frontend)\u001b[0m\n\u001b[1;32m    893\u001b[0m \u001b[39mtry\u001b[39;00m:\n\u001b[1;32m    894\u001b[0m     \u001b[39mif\u001b[39;00m \u001b[39mself\u001b[39m\u001b[39m.\u001b[39mshare_url \u001b[39mis\u001b[39;00m \u001b[39mNone\u001b[39;00m:\n\u001b[0;32m--> 895\u001b[0m         share_url \u001b[39m=\u001b[39m networking\u001b[39m.\u001b[39;49msetup_tunnel(\u001b[39mself\u001b[39;49m\u001b[39m.\u001b[39;49mserver_port, \u001b[39mNone\u001b[39;49;00m)\n\u001b[1;32m    896\u001b[0m         \u001b[39mself\u001b[39m\u001b[39m.\u001b[39mshare_url \u001b[39m=\u001b[39m share_url\n\u001b[1;32m    897\u001b[0m     \u001b[39mprint\u001b[39m(strings\u001b[39m.\u001b[39men[\u001b[39m\"\u001b[39m\u001b[39mSHARE_LINK_DISPLAY\u001b[39m\u001b[39m\"\u001b[39m]\u001b[39m.\u001b[39mformat(\u001b[39mself\u001b[39m\u001b[39m.\u001b[39mshare_url))\n",
      "File \u001b[0;32m~/work/SWA/SWA/kn_venv/lib/python3.8/site-packages/gradio/networking.py:176\u001b[0m, in \u001b[0;36msetup_tunnel\u001b[0;34m(local_server_port, endpoint)\u001b[0m\n\u001b[1;32m    174\u001b[0m \u001b[39mtry\u001b[39;00m:\n\u001b[1;32m    175\u001b[0m     payload \u001b[39m=\u001b[39m response\u001b[39m.\u001b[39mjson()[\u001b[39m0\u001b[39m]\n\u001b[0;32m--> 176\u001b[0m     \u001b[39mreturn\u001b[39;00m create_tunnel(payload, LOCALHOST_NAME, local_server_port)\n\u001b[1;32m    177\u001b[0m \u001b[39mexcept\u001b[39;00m \u001b[39mException\u001b[39;00m \u001b[39mas\u001b[39;00m e:\n\u001b[1;32m    178\u001b[0m     \u001b[39mraise\u001b[39;00m \u001b[39mRuntimeError\u001b[39;00m(\u001b[39mstr\u001b[39m(e))\n",
      "File \u001b[0;32m~/work/SWA/SWA/kn_venv/lib/python3.8/site-packages/gradio/tunneling.py:74\u001b[0m, in \u001b[0;36mcreate_tunnel\u001b[0;34m(payload, local_server, local_server_port)\u001b[0m\n\u001b[1;32m     72\u001b[0m     \u001b[39mwith\u001b[39;00m warnings\u001b[39m.\u001b[39mcatch_warnings():\n\u001b[1;32m     73\u001b[0m         warnings\u001b[39m.\u001b[39msimplefilter(\u001b[39m\"\u001b[39m\u001b[39mignore\u001b[39m\u001b[39m\"\u001b[39m)\n\u001b[0;32m---> 74\u001b[0m         client\u001b[39m.\u001b[39;49mconnect(\n\u001b[1;32m     75\u001b[0m             hostname\u001b[39m=\u001b[39;49mpayload[\u001b[39m\"\u001b[39;49m\u001b[39mhost\u001b[39;49m\u001b[39m\"\u001b[39;49m],\n\u001b[1;32m     76\u001b[0m             port\u001b[39m=\u001b[39;49m\u001b[39mint\u001b[39;49m(payload[\u001b[39m\"\u001b[39;49m\u001b[39mport\u001b[39;49m\u001b[39m\"\u001b[39;49m]),\n\u001b[1;32m     77\u001b[0m             username\u001b[39m=\u001b[39;49mpayload[\u001b[39m\"\u001b[39;49m\u001b[39muser\u001b[39;49m\u001b[39m\"\u001b[39;49m],\n\u001b[1;32m     78\u001b[0m             pkey\u001b[39m=\u001b[39;49mparamiko\u001b[39m.\u001b[39;49mRSAKey\u001b[39m.\u001b[39;49mfrom_private_key(StringIO(payload[\u001b[39m\"\u001b[39;49m\u001b[39mkey\u001b[39;49m\u001b[39m\"\u001b[39;49m])),\n\u001b[1;32m     79\u001b[0m         )\n\u001b[1;32m     80\u001b[0m \u001b[39mexcept\u001b[39;00m \u001b[39mException\u001b[39;00m \u001b[39mas\u001b[39;00m e:\n\u001b[1;32m     81\u001b[0m     \u001b[39mprint\u001b[39m(\u001b[39mf\u001b[39m\u001b[39m'\u001b[39m\u001b[39m*** Failed to connect to \u001b[39m\u001b[39m{\u001b[39;00mpayload[\u001b[39m\"\u001b[39m\u001b[39mhost\u001b[39m\u001b[39m\"\u001b[39m]\u001b[39m}\u001b[39;00m\u001b[39m:\u001b[39m\u001b[39m{\u001b[39;00mpayload[\u001b[39m\"\u001b[39m\u001b[39mport\u001b[39m\u001b[39m\"\u001b[39m]\u001b[39m}\u001b[39;00m\u001b[39m: \u001b[39m\u001b[39m{\u001b[39;00me\u001b[39m}\u001b[39;00m\u001b[39m'\u001b[39m)\n",
      "File \u001b[0;32m~/work/SWA/SWA/kn_venv/lib/python3.8/site-packages/paramiko/client.py:349\u001b[0m, in \u001b[0;36mSSHClient.connect\u001b[0;34m(self, hostname, port, username, password, pkey, key_filename, timeout, allow_agent, look_for_keys, compress, sock, gss_auth, gss_kex, gss_deleg_creds, gss_host, banner_timeout, auth_timeout, gss_trust_dns, passphrase, disabled_algorithms)\u001b[0m\n\u001b[1;32m    347\u001b[0m     \u001b[39mexcept\u001b[39;00m:\n\u001b[1;32m    348\u001b[0m         \u001b[39mpass\u001b[39;00m\n\u001b[0;32m--> 349\u001b[0m retry_on_signal(\u001b[39mlambda\u001b[39;49;00m: sock\u001b[39m.\u001b[39;49mconnect(addr))\n\u001b[1;32m    350\u001b[0m \u001b[39m# Break out of the loop on success\u001b[39;00m\n\u001b[1;32m    351\u001b[0m \u001b[39mbreak\u001b[39;00m\n",
      "File \u001b[0;32m~/work/SWA/SWA/kn_venv/lib/python3.8/site-packages/paramiko/util.py:279\u001b[0m, in \u001b[0;36mretry_on_signal\u001b[0;34m(function)\u001b[0m\n\u001b[1;32m    277\u001b[0m \u001b[39mwhile\u001b[39;00m \u001b[39mTrue\u001b[39;00m:\n\u001b[1;32m    278\u001b[0m     \u001b[39mtry\u001b[39;00m:\n\u001b[0;32m--> 279\u001b[0m         \u001b[39mreturn\u001b[39;00m function()\n\u001b[1;32m    280\u001b[0m     \u001b[39mexcept\u001b[39;00m \u001b[39mEnvironmentError\u001b[39;00m \u001b[39mas\u001b[39;00m e:\n\u001b[1;32m    281\u001b[0m         \u001b[39mif\u001b[39;00m e\u001b[39m.\u001b[39merrno \u001b[39m!=\u001b[39m errno\u001b[39m.\u001b[39mEINTR:\n",
      "File \u001b[0;32m~/work/SWA/SWA/kn_venv/lib/python3.8/site-packages/paramiko/client.py:349\u001b[0m, in \u001b[0;36mSSHClient.connect.<locals>.<lambda>\u001b[0;34m()\u001b[0m\n\u001b[1;32m    347\u001b[0m     \u001b[39mexcept\u001b[39;00m:\n\u001b[1;32m    348\u001b[0m         \u001b[39mpass\u001b[39;00m\n\u001b[0;32m--> 349\u001b[0m retry_on_signal(\u001b[39mlambda\u001b[39;00m: sock\u001b[39m.\u001b[39;49mconnect(addr))\n\u001b[1;32m    350\u001b[0m \u001b[39m# Break out of the loop on success\u001b[39;00m\n\u001b[1;32m    351\u001b[0m \u001b[39mbreak\u001b[39;00m\n",
      "\u001b[0;31mKeyboardInterrupt\u001b[0m: "
     ]
    }
   ],
   "source": [
    "# gr.Interface(fn=classify_image, \n",
    "#              inputs=gr.Image(type=\"pil\"),\n",
    "#              outputs=\"text\"\n",
    "#              #examples=[\"/home/iotg/work/SWA/SWA/data/chest_xray/val/NORMAL/NORMAL2-IM-1427-0001.jpeg\"])\n",
    "#              ).launch(server_port=7861 , share=True, debug=True)"
   ]
  },
  {
   "cell_type": "code",
   "execution_count": null,
   "id": "c8f8ff56",
   "metadata": {},
   "outputs": [],
   "source": []
  }
 ],
 "metadata": {
  "kernelspec": {
   "display_name": "Python 3.8.10 ('kn_venv': venv)",
   "language": "python",
   "name": "python3"
  },
  "language_info": {
   "codemirror_mode": {
    "name": "ipython",
    "version": 3
   },
   "file_extension": ".py",
   "mimetype": "text/x-python",
   "name": "python",
   "nbconvert_exporter": "python",
   "pygments_lexer": "ipython3",
   "version": "3.8.10"
  },
  "vscode": {
   "interpreter": {
    "hash": "63f579fe33535a39cdf13d16b4d23a9814459980bf3218e75b4bf627e3ce54fd"
   }
  }
 },
 "nbformat": 4,
 "nbformat_minor": 5
}
