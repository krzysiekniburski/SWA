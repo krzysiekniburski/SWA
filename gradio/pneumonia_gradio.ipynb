{
 "cells": [
  {
   "cell_type": "code",
   "execution_count": 4,
   "metadata": {},
   "outputs": [],
   "source": [
    "from tensorflow.keras.preprocessing.image import load_img, img_to_array\n",
    "import tensorflow as tf\n",
    "import numpy as np\n",
    "from tensorflow import keras\n",
    "from tensorflow.keras.models import load_model"
   ]
  },
  {
   "cell_type": "markdown",
   "metadata": {},
   "source": [
    "### Sprawdzic SSIM bez sieci dla przykładowych zdjęć\n",
    "https://ourcodeworld.com/articles/read/991/how-to-calculate-the-structural-similarity-index-ssim-between-two-images-with-python"
   ]
  },
  {
   "cell_type": "code",
   "execution_count": 98,
   "metadata": {},
   "outputs": [
    {
     "name": "stderr",
     "output_type": "stream",
     "text": [
      "100%|██████████| 234/234 [00:01<00:00, 147.40it/s]\n",
      "0it [00:00, ?it/s]\n"
     ]
    }
   ],
   "source": [
    "from tqdm import tqdm\n",
    "test_path = \"../data/chest_xray/test\"\n",
    "dsize =(64, 64)\n",
    "\n",
    "labels = {\"NORMAL\":0, \"PNEUMONIA\":1}\n",
    "\n",
    "def load_images(dir_path, labels, dsize = (32, 32)):\n",
    "    \"\"\"loading images\"\"\"\n",
    "    X_image, y_image = [], []\n",
    "    for label_name, Id in labels.items():\n",
    "        for jpeg in tqdm(os.listdir(os.path.join(dir_path, label_name))):\n",
    "            path = os.path.join(dir_path, label_name, jpeg)\n",
    "            image = load_img(path, target_size=dsize)\n",
    "            X_image.append(image)\n",
    "            #self.X_image.append(img_to_array(image)/255.0)\n",
    "            y_image.append(Id)\n",
    "    return X_image, y_image\n",
    "\n",
    "X_test_org, y_test = load_images(test_path, labels, dsize = dsize)"
   ]
  },
  {
   "cell_type": "code",
   "execution_count": 100,
   "metadata": {},
   "outputs": [
    {
     "name": "stderr",
     "output_type": "stream",
     "text": [
      "100%|██████████| 234/234 [00:00<00:00, 28005.91it/s]"
     ]
    },
    {
     "name": "stdout",
     "output_type": "stream",
     "text": [
      "Shape of X_test: (234, 64, 64, 3)\n"
     ]
    },
    {
     "name": "stderr",
     "output_type": "stream",
     "text": [
      "\n"
     ]
    }
   ],
   "source": [
    "import random\n",
    "def preprocess_images(images, y, normalize = True):\n",
    "    X = []\n",
    "    for i in tqdm(range(len(images))):\n",
    "        img = img_to_array(images[i]).astype('float32')\n",
    "        if normalize:\n",
    "            img = img/255.0\n",
    "        X.append(img)\n",
    "    #Shuffle data\n",
    "    dataset = list(zip(X, y))\n",
    "    random.shuffle(dataset)\n",
    "\n",
    "    X, y = zip(*dataset)\n",
    "    return np.array(X), np.array(y)\n",
    "\n",
    "normalize = True\n",
    "x_test, y_test =preprocess_images(X_test_org, y_test, normalize=normalize)\n",
    "print(\"Shape of X_test:\", x_test.shape)"
   ]
  },
  {
   "cell_type": "code",
   "execution_count": 2,
   "metadata": {},
   "outputs": [],
   "source": [
    "def SSIMLoss(y_true, y_pred):\n",
    "  return 1 - tf.reduce_mean(tf.image.ssim(y_true, y_pred,1.0))"
   ]
  },
  {
   "cell_type": "code",
   "execution_count": 121,
   "metadata": {},
   "outputs": [],
   "source": [
    "model = load_model('/home/iotg/work/SWA/SWA/models/pneumonia_ae.h5', custom_objects={'SSIMLoss': SSIMLoss})"
   ]
  },
  {
   "cell_type": "code",
   "execution_count": 9,
   "metadata": {},
   "outputs": [
    {
     "name": "stdout",
     "output_type": "stream",
     "text": [
      "Model: \"model_1\"\n",
      "_________________________________________________________________\n",
      " Layer (type)                Output Shape              Param #   \n",
      "=================================================================\n",
      " input_layer (InputLayer)    [(None, 64, 64, 3)]       0         \n",
      "                                                                 \n",
      " conv_1 (Conv2D)             (None, 64, 64, 32)        896       \n",
      "                                                                 \n",
      " batchnorm_1 (BatchNormaliza  (None, 64, 64, 32)       128       \n",
      " tion)                                                           \n",
      "                                                                 \n",
      " leaky_relu_1 (LeakyReLU)    (None, 64, 64, 32)        0         \n",
      "                                                                 \n",
      " conv_2 (Conv2D)             (None, 32, 32, 64)        18496     \n",
      "                                                                 \n",
      " batchnorm_2 (BatchNormaliza  (None, 32, 32, 64)       256       \n",
      " tion)                                                           \n",
      "                                                                 \n",
      " leaky_relu_2 (LeakyReLU)    (None, 32, 32, 64)        0         \n",
      "                                                                 \n",
      " conv_3 (Conv2D)             (None, 16, 16, 64)        36928     \n",
      "                                                                 \n",
      " batchnorm_3 (BatchNormaliza  (None, 16, 16, 64)       256       \n",
      " tion)                                                           \n",
      "                                                                 \n",
      " leaky_relu_3 (LeakyReLU)    (None, 16, 16, 64)        0         \n",
      "                                                                 \n",
      " conv_transpose_1 (Conv2DTra  (None, 16, 16, 64)       36928     \n",
      " nspose)                                                         \n",
      "                                                                 \n",
      " batchnorm_4 (BatchNormaliza  (None, 16, 16, 64)       256       \n",
      " tion)                                                           \n",
      "                                                                 \n",
      " leaky_relu_4 (LeakyReLU)    (None, 16, 16, 64)        0         \n",
      "                                                                 \n",
      " conv_transpose_2 (Conv2DTra  (None, 32, 32, 64)       36928     \n",
      " nspose)                                                         \n",
      "                                                                 \n",
      " batchnorm_5 (BatchNormaliza  (None, 32, 32, 64)       256       \n",
      " tion)                                                           \n",
      "                                                                 \n",
      " leaky_relu_5 (LeakyReLU)    (None, 32, 32, 64)        0         \n",
      "                                                                 \n",
      " conv_transpose_3 (Conv2DTra  (None, 64, 64, 32)       18464     \n",
      " nspose)                                                         \n",
      "                                                                 \n",
      " batchnorm_6 (BatchNormaliza  (None, 64, 64, 32)       128       \n",
      " tion)                                                           \n",
      "                                                                 \n",
      " leaky_relu_6 (LeakyReLU)    (None, 64, 64, 32)        0         \n",
      "                                                                 \n",
      " conv_transpose_4 (Conv2DTra  (None, 64, 64, 3)        867       \n",
      " nspose)                                                         \n",
      "                                                                 \n",
      "=================================================================\n",
      "Total params: 150,787\n",
      "Trainable params: 150,147\n",
      "Non-trainable params: 640\n",
      "_________________________________________________________________\n"
     ]
    }
   ],
   "source": [
    "model.summary()"
   ]
  },
  {
   "cell_type": "code",
   "execution_count": 38,
   "metadata": {},
   "outputs": [],
   "source": [
    "import gradio as gr"
   ]
  },
  {
   "cell_type": "code",
   "execution_count": 131,
   "metadata": {},
   "outputs": [],
   "source": [
    "def classify_image(inp):\n",
    "    inp = inp.resize((64, 64))\n",
    "    img_array = img_to_array(inp).astype('float32')\n",
    "    img_array = np.expand_dims(img_array, axis=0)\n",
    "    img_array = img_array/255.0\n",
    "    model = load_model('/home/iotg/work/SWA/SWA/models/pneumonia_ae.h5', custom_objects={'SSIMLoss': SSIMLoss})\n",
    "    prediction = model.predict(img_array)\n",
    "    output = SSIMLoss(prediction, x_test[1])\n",
    "    #prediction = np.squeeze(prediction, axis=0)\n",
    "    #return prediction\n",
    "    return np.max(inp), np.max(img_array), img_array.shape, output"
   ]
  },
  {
   "cell_type": "code",
   "execution_count": 144,
   "metadata": {},
   "outputs": [
    {
     "name": "stdout",
     "output_type": "stream",
     "text": [
      "Closing server running on port: 7861\n",
      "Closing server running on port: 7860\n"
     ]
    }
   ],
   "source": [
    "gr.close_all()\n"
   ]
  },
  {
   "cell_type": "code",
   "execution_count": 145,
   "metadata": {},
   "outputs": [
    {
     "name": "stdout",
     "output_type": "stream",
     "text": [
      "Running on local URL:  http://127.0.0.1:7861/\n",
      "1/1 [==============================] - 0s 125ms/step\n",
      "1/1 [==============================] - 0s 125ms/step\n",
      "1/1 [==============================] - 0s 131ms/step\n",
      "1/1 [==============================] - 0s 126ms/step\n",
      "1/1 [==============================] - 0s 125ms/step\n",
      "1/1 [==============================] - 0s 125ms/step\n",
      "1/1 [==============================] - 0s 126ms/step\n",
      "1/1 [==============================] - 0s 126ms/step\n",
      "1/1 [==============================] - 0s 126ms/step\n",
      "1/1 [==============================] - 0s 128ms/step\n",
      "1/1 [==============================] - 0s 126ms/step\n"
     ]
    },
    {
     "ename": "KeyboardInterrupt",
     "evalue": "",
     "output_type": "error",
     "traceback": [
      "\u001b[0;31m---------------------------------------------------------------------------\u001b[0m",
      "\u001b[0;31mKeyboardInterrupt\u001b[0m                         Traceback (most recent call last)",
      "\u001b[1;32m/home/iotg/work/SWA/SWA/gradio/pneumonia_gradio.ipynb Cell 11\u001b[0m in \u001b[0;36m<cell line: 1>\u001b[0;34m()\u001b[0m\n\u001b[0;32m----> <a href='vscode-notebook-cell://ssh-remote%2B10.91.221.57/home/iotg/work/SWA/SWA/gradio/pneumonia_gradio.ipynb#W5sdnNjb2RlLXJlbW90ZQ%3D%3D?line=0'>1</a>\u001b[0m gr\u001b[39m.\u001b[39;49mInterface(fn\u001b[39m=\u001b[39;49mclassify_image, \n\u001b[1;32m      <a href='vscode-notebook-cell://ssh-remote%2B10.91.221.57/home/iotg/work/SWA/SWA/gradio/pneumonia_gradio.ipynb#W5sdnNjb2RlLXJlbW90ZQ%3D%3D?line=1'>2</a>\u001b[0m              inputs\u001b[39m=\u001b[39;49mgr\u001b[39m.\u001b[39;49mImage(\u001b[39mtype\u001b[39;49m\u001b[39m=\u001b[39;49m\u001b[39m\"\u001b[39;49m\u001b[39mpil\u001b[39;49m\u001b[39m\"\u001b[39;49m),\n\u001b[1;32m      <a href='vscode-notebook-cell://ssh-remote%2B10.91.221.57/home/iotg/work/SWA/SWA/gradio/pneumonia_gradio.ipynb#W5sdnNjb2RlLXJlbW90ZQ%3D%3D?line=2'>3</a>\u001b[0m              outputs\u001b[39m=\u001b[39;49m\u001b[39m\"\u001b[39;49m\u001b[39mtext\u001b[39;49m\u001b[39m\"\u001b[39;49m,\n\u001b[1;32m      <a href='vscode-notebook-cell://ssh-remote%2B10.91.221.57/home/iotg/work/SWA/SWA/gradio/pneumonia_gradio.ipynb#W5sdnNjb2RlLXJlbW90ZQ%3D%3D?line=3'>4</a>\u001b[0m              examples\u001b[39m=\u001b[39;49m[\u001b[39m\"\u001b[39;49m\u001b[39m/home/iotg/work/SWA/SWA/data/chest_xray/val/NORMAL/NORMAL2-IM-1427-0001.jpeg\u001b[39;49m\u001b[39m\"\u001b[39;49m])\u001b[39m.\u001b[39;49mlaunch(server_port\u001b[39m=\u001b[39;49m\u001b[39m7861\u001b[39;49m , share\u001b[39m=\u001b[39;49m\u001b[39mTrue\u001b[39;49;00m, debug\u001b[39m=\u001b[39;49m\u001b[39mTrue\u001b[39;49;00m)\n",
      "File \u001b[0;32m~/work/SWA/SWA/kn_venv/lib/python3.8/site-packages/gradio/blocks.py:895\u001b[0m, in \u001b[0;36mBlocks.launch\u001b[0;34m(self, inline, inbrowser, share, debug, enable_queue, max_threads, auth, auth_message, prevent_thread_lock, show_error, server_name, server_port, show_tips, height, width, encrypt, favicon_path, ssl_keyfile, ssl_certfile, ssl_keyfile_password, quiet, _frontend)\u001b[0m\n\u001b[1;32m    893\u001b[0m \u001b[39mtry\u001b[39;00m:\n\u001b[1;32m    894\u001b[0m     \u001b[39mif\u001b[39;00m \u001b[39mself\u001b[39m\u001b[39m.\u001b[39mshare_url \u001b[39mis\u001b[39;00m \u001b[39mNone\u001b[39;00m:\n\u001b[0;32m--> 895\u001b[0m         share_url \u001b[39m=\u001b[39m networking\u001b[39m.\u001b[39;49msetup_tunnel(\u001b[39mself\u001b[39;49m\u001b[39m.\u001b[39;49mserver_port, \u001b[39mNone\u001b[39;49;00m)\n\u001b[1;32m    896\u001b[0m         \u001b[39mself\u001b[39m\u001b[39m.\u001b[39mshare_url \u001b[39m=\u001b[39m share_url\n\u001b[1;32m    897\u001b[0m     \u001b[39mprint\u001b[39m(strings\u001b[39m.\u001b[39men[\u001b[39m\"\u001b[39m\u001b[39mSHARE_LINK_DISPLAY\u001b[39m\u001b[39m\"\u001b[39m]\u001b[39m.\u001b[39mformat(\u001b[39mself\u001b[39m\u001b[39m.\u001b[39mshare_url))\n",
      "File \u001b[0;32m~/work/SWA/SWA/kn_venv/lib/python3.8/site-packages/gradio/networking.py:176\u001b[0m, in \u001b[0;36msetup_tunnel\u001b[0;34m(local_server_port, endpoint)\u001b[0m\n\u001b[1;32m    174\u001b[0m \u001b[39mtry\u001b[39;00m:\n\u001b[1;32m    175\u001b[0m     payload \u001b[39m=\u001b[39m response\u001b[39m.\u001b[39mjson()[\u001b[39m0\u001b[39m]\n\u001b[0;32m--> 176\u001b[0m     \u001b[39mreturn\u001b[39;00m create_tunnel(payload, LOCALHOST_NAME, local_server_port)\n\u001b[1;32m    177\u001b[0m \u001b[39mexcept\u001b[39;00m \u001b[39mException\u001b[39;00m \u001b[39mas\u001b[39;00m e:\n\u001b[1;32m    178\u001b[0m     \u001b[39mraise\u001b[39;00m \u001b[39mRuntimeError\u001b[39;00m(\u001b[39mstr\u001b[39m(e))\n",
      "File \u001b[0;32m~/work/SWA/SWA/kn_venv/lib/python3.8/site-packages/gradio/tunneling.py:74\u001b[0m, in \u001b[0;36mcreate_tunnel\u001b[0;34m(payload, local_server, local_server_port)\u001b[0m\n\u001b[1;32m     72\u001b[0m     \u001b[39mwith\u001b[39;00m warnings\u001b[39m.\u001b[39mcatch_warnings():\n\u001b[1;32m     73\u001b[0m         warnings\u001b[39m.\u001b[39msimplefilter(\u001b[39m\"\u001b[39m\u001b[39mignore\u001b[39m\u001b[39m\"\u001b[39m)\n\u001b[0;32m---> 74\u001b[0m         client\u001b[39m.\u001b[39;49mconnect(\n\u001b[1;32m     75\u001b[0m             hostname\u001b[39m=\u001b[39;49mpayload[\u001b[39m\"\u001b[39;49m\u001b[39mhost\u001b[39;49m\u001b[39m\"\u001b[39;49m],\n\u001b[1;32m     76\u001b[0m             port\u001b[39m=\u001b[39;49m\u001b[39mint\u001b[39;49m(payload[\u001b[39m\"\u001b[39;49m\u001b[39mport\u001b[39;49m\u001b[39m\"\u001b[39;49m]),\n\u001b[1;32m     77\u001b[0m             username\u001b[39m=\u001b[39;49mpayload[\u001b[39m\"\u001b[39;49m\u001b[39muser\u001b[39;49m\u001b[39m\"\u001b[39;49m],\n\u001b[1;32m     78\u001b[0m             pkey\u001b[39m=\u001b[39;49mparamiko\u001b[39m.\u001b[39;49mRSAKey\u001b[39m.\u001b[39;49mfrom_private_key(StringIO(payload[\u001b[39m\"\u001b[39;49m\u001b[39mkey\u001b[39;49m\u001b[39m\"\u001b[39;49m])),\n\u001b[1;32m     79\u001b[0m         )\n\u001b[1;32m     80\u001b[0m \u001b[39mexcept\u001b[39;00m \u001b[39mException\u001b[39;00m \u001b[39mas\u001b[39;00m e:\n\u001b[1;32m     81\u001b[0m     \u001b[39mprint\u001b[39m(\u001b[39mf\u001b[39m\u001b[39m'\u001b[39m\u001b[39m*** Failed to connect to \u001b[39m\u001b[39m{\u001b[39;00mpayload[\u001b[39m\"\u001b[39m\u001b[39mhost\u001b[39m\u001b[39m\"\u001b[39m]\u001b[39m}\u001b[39;00m\u001b[39m:\u001b[39m\u001b[39m{\u001b[39;00mpayload[\u001b[39m\"\u001b[39m\u001b[39mport\u001b[39m\u001b[39m\"\u001b[39m]\u001b[39m}\u001b[39;00m\u001b[39m: \u001b[39m\u001b[39m{\u001b[39;00me\u001b[39m}\u001b[39;00m\u001b[39m'\u001b[39m)\n",
      "File \u001b[0;32m~/work/SWA/SWA/kn_venv/lib/python3.8/site-packages/paramiko/client.py:349\u001b[0m, in \u001b[0;36mSSHClient.connect\u001b[0;34m(self, hostname, port, username, password, pkey, key_filename, timeout, allow_agent, look_for_keys, compress, sock, gss_auth, gss_kex, gss_deleg_creds, gss_host, banner_timeout, auth_timeout, gss_trust_dns, passphrase, disabled_algorithms)\u001b[0m\n\u001b[1;32m    347\u001b[0m     \u001b[39mexcept\u001b[39;00m:\n\u001b[1;32m    348\u001b[0m         \u001b[39mpass\u001b[39;00m\n\u001b[0;32m--> 349\u001b[0m retry_on_signal(\u001b[39mlambda\u001b[39;49;00m: sock\u001b[39m.\u001b[39;49mconnect(addr))\n\u001b[1;32m    350\u001b[0m \u001b[39m# Break out of the loop on success\u001b[39;00m\n\u001b[1;32m    351\u001b[0m \u001b[39mbreak\u001b[39;00m\n",
      "File \u001b[0;32m~/work/SWA/SWA/kn_venv/lib/python3.8/site-packages/paramiko/util.py:279\u001b[0m, in \u001b[0;36mretry_on_signal\u001b[0;34m(function)\u001b[0m\n\u001b[1;32m    277\u001b[0m \u001b[39mwhile\u001b[39;00m \u001b[39mTrue\u001b[39;00m:\n\u001b[1;32m    278\u001b[0m     \u001b[39mtry\u001b[39;00m:\n\u001b[0;32m--> 279\u001b[0m         \u001b[39mreturn\u001b[39;00m function()\n\u001b[1;32m    280\u001b[0m     \u001b[39mexcept\u001b[39;00m \u001b[39mEnvironmentError\u001b[39;00m \u001b[39mas\u001b[39;00m e:\n\u001b[1;32m    281\u001b[0m         \u001b[39mif\u001b[39;00m e\u001b[39m.\u001b[39merrno \u001b[39m!=\u001b[39m errno\u001b[39m.\u001b[39mEINTR:\n",
      "File \u001b[0;32m~/work/SWA/SWA/kn_venv/lib/python3.8/site-packages/paramiko/client.py:349\u001b[0m, in \u001b[0;36mSSHClient.connect.<locals>.<lambda>\u001b[0;34m()\u001b[0m\n\u001b[1;32m    347\u001b[0m     \u001b[39mexcept\u001b[39;00m:\n\u001b[1;32m    348\u001b[0m         \u001b[39mpass\u001b[39;00m\n\u001b[0;32m--> 349\u001b[0m retry_on_signal(\u001b[39mlambda\u001b[39;00m: sock\u001b[39m.\u001b[39;49mconnect(addr))\n\u001b[1;32m    350\u001b[0m \u001b[39m# Break out of the loop on success\u001b[39;00m\n\u001b[1;32m    351\u001b[0m \u001b[39mbreak\u001b[39;00m\n",
      "\u001b[0;31mKeyboardInterrupt\u001b[0m: "
     ]
    }
   ],
   "source": [
    "gr.Interface(fn=classify_image, \n",
    "             inputs=gr.Image(type=\"pil\"),\n",
    "             outputs=\"text\",\n",
    "             examples=[\"/home/iotg/work/SWA/SWA/data/chest_xray/val/NORMAL/NORMAL2-IM-1427-0001.jpeg\"]).launch(server_port=7861 , share=True, debug=True)"
   ]
  },
  {
   "cell_type": "code",
   "execution_count": null,
   "metadata": {},
   "outputs": [],
   "source": []
  }
 ],
 "metadata": {
  "kernelspec": {
   "display_name": "Python 3.8.10 ('kn_venv': venv)",
   "language": "python",
   "name": "python3"
  },
  "language_info": {
   "codemirror_mode": {
    "name": "ipython",
    "version": 3
   },
   "file_extension": ".py",
   "mimetype": "text/x-python",
   "name": "python",
   "nbconvert_exporter": "python",
   "pygments_lexer": "ipython3",
   "version": "3.8.10"
  },
  "orig_nbformat": 4,
  "vscode": {
   "interpreter": {
    "hash": "63f579fe33535a39cdf13d16b4d23a9814459980bf3218e75b4bf627e3ce54fd"
   }
  }
 },
 "nbformat": 4,
 "nbformat_minor": 2
}
